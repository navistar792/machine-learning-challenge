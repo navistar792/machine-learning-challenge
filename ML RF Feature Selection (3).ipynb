{
 "cells": [
  {
   "cell_type": "code",
   "execution_count": 2,
   "id": "f25855aa",
   "metadata": {},
   "outputs": [],
   "source": [
    "# import warnings\n",
    "# warnings.simplefilter('ignore')\n",
    "\n",
    "# %matplotlib inline\n",
    "import matplotlib.pyplot as plt\n",
    "import numpy as np\n",
    "import pandas as pd"
   ]
  },
  {
   "cell_type": "code",
   "execution_count": 3,
   "id": "a8feb8bc",
   "metadata": {},
   "outputs": [
    {
     "data": {
      "text/html": [
       "<div>\n",
       "<style scoped>\n",
       "    .dataframe tbody tr th:only-of-type {\n",
       "        vertical-align: middle;\n",
       "    }\n",
       "\n",
       "    .dataframe tbody tr th {\n",
       "        vertical-align: top;\n",
       "    }\n",
       "\n",
       "    .dataframe thead th {\n",
       "        text-align: right;\n",
       "    }\n",
       "</style>\n",
       "<table border=\"1\" class=\"dataframe\">\n",
       "  <thead>\n",
       "    <tr style=\"text-align: right;\">\n",
       "      <th></th>\n",
       "      <th>koi_disposition</th>\n",
       "      <th>koi_score</th>\n",
       "      <th>koi_fpflag_nt</th>\n",
       "      <th>koi_fpflag_ss</th>\n",
       "      <th>koi_fpflag_co</th>\n",
       "      <th>koi_fpflag_ec</th>\n",
       "      <th>koi_period</th>\n",
       "      <th>koi_period_err1</th>\n",
       "      <th>koi_period_err2</th>\n",
       "      <th>koi_time0bk</th>\n",
       "      <th>...</th>\n",
       "      <th>koi_steff_err2</th>\n",
       "      <th>koi_slogg</th>\n",
       "      <th>koi_slogg_err1</th>\n",
       "      <th>koi_slogg_err2</th>\n",
       "      <th>koi_srad</th>\n",
       "      <th>koi_srad_err1</th>\n",
       "      <th>koi_srad_err2</th>\n",
       "      <th>ra</th>\n",
       "      <th>dec</th>\n",
       "      <th>koi_kepmag</th>\n",
       "    </tr>\n",
       "  </thead>\n",
       "  <tbody>\n",
       "    <tr>\n",
       "      <th>0</th>\n",
       "      <td>CONFIRMED</td>\n",
       "      <td>1.000</td>\n",
       "      <td>0</td>\n",
       "      <td>0</td>\n",
       "      <td>0</td>\n",
       "      <td>0</td>\n",
       "      <td>9.488036</td>\n",
       "      <td>2.775000e-05</td>\n",
       "      <td>-2.775000e-05</td>\n",
       "      <td>170.538750</td>\n",
       "      <td>...</td>\n",
       "      <td>-81.0</td>\n",
       "      <td>4.467</td>\n",
       "      <td>0.064</td>\n",
       "      <td>-0.096</td>\n",
       "      <td>0.927</td>\n",
       "      <td>0.105</td>\n",
       "      <td>-0.061</td>\n",
       "      <td>291.93423</td>\n",
       "      <td>48.141651</td>\n",
       "      <td>15.347</td>\n",
       "    </tr>\n",
       "    <tr>\n",
       "      <th>1</th>\n",
       "      <td>CONFIRMED</td>\n",
       "      <td>0.969</td>\n",
       "      <td>0</td>\n",
       "      <td>0</td>\n",
       "      <td>0</td>\n",
       "      <td>0</td>\n",
       "      <td>54.418383</td>\n",
       "      <td>2.479000e-04</td>\n",
       "      <td>-2.479000e-04</td>\n",
       "      <td>162.513840</td>\n",
       "      <td>...</td>\n",
       "      <td>-81.0</td>\n",
       "      <td>4.467</td>\n",
       "      <td>0.064</td>\n",
       "      <td>-0.096</td>\n",
       "      <td>0.927</td>\n",
       "      <td>0.105</td>\n",
       "      <td>-0.061</td>\n",
       "      <td>291.93423</td>\n",
       "      <td>48.141651</td>\n",
       "      <td>15.347</td>\n",
       "    </tr>\n",
       "    <tr>\n",
       "      <th>2</th>\n",
       "      <td>FALSE POSITIVE</td>\n",
       "      <td>0.000</td>\n",
       "      <td>0</td>\n",
       "      <td>1</td>\n",
       "      <td>0</td>\n",
       "      <td>0</td>\n",
       "      <td>19.899140</td>\n",
       "      <td>1.494000e-05</td>\n",
       "      <td>-1.494000e-05</td>\n",
       "      <td>175.850252</td>\n",
       "      <td>...</td>\n",
       "      <td>-176.0</td>\n",
       "      <td>4.544</td>\n",
       "      <td>0.044</td>\n",
       "      <td>-0.176</td>\n",
       "      <td>0.868</td>\n",
       "      <td>0.233</td>\n",
       "      <td>-0.078</td>\n",
       "      <td>297.00482</td>\n",
       "      <td>48.134129</td>\n",
       "      <td>15.436</td>\n",
       "    </tr>\n",
       "    <tr>\n",
       "      <th>3</th>\n",
       "      <td>FALSE POSITIVE</td>\n",
       "      <td>0.000</td>\n",
       "      <td>0</td>\n",
       "      <td>1</td>\n",
       "      <td>0</td>\n",
       "      <td>0</td>\n",
       "      <td>1.736952</td>\n",
       "      <td>2.630000e-07</td>\n",
       "      <td>-2.630000e-07</td>\n",
       "      <td>170.307565</td>\n",
       "      <td>...</td>\n",
       "      <td>-174.0</td>\n",
       "      <td>4.564</td>\n",
       "      <td>0.053</td>\n",
       "      <td>-0.168</td>\n",
       "      <td>0.791</td>\n",
       "      <td>0.201</td>\n",
       "      <td>-0.067</td>\n",
       "      <td>285.53461</td>\n",
       "      <td>48.285210</td>\n",
       "      <td>15.597</td>\n",
       "    </tr>\n",
       "    <tr>\n",
       "      <th>4</th>\n",
       "      <td>CONFIRMED</td>\n",
       "      <td>1.000</td>\n",
       "      <td>0</td>\n",
       "      <td>0</td>\n",
       "      <td>0</td>\n",
       "      <td>0</td>\n",
       "      <td>2.525592</td>\n",
       "      <td>3.761000e-06</td>\n",
       "      <td>-3.761000e-06</td>\n",
       "      <td>171.595550</td>\n",
       "      <td>...</td>\n",
       "      <td>-211.0</td>\n",
       "      <td>4.438</td>\n",
       "      <td>0.070</td>\n",
       "      <td>-0.210</td>\n",
       "      <td>1.046</td>\n",
       "      <td>0.334</td>\n",
       "      <td>-0.133</td>\n",
       "      <td>288.75488</td>\n",
       "      <td>48.226200</td>\n",
       "      <td>15.509</td>\n",
       "    </tr>\n",
       "  </tbody>\n",
       "</table>\n",
       "<p>5 rows × 42 columns</p>\n",
       "</div>"
      ],
      "text/plain": [
       "  koi_disposition  koi_score  koi_fpflag_nt  koi_fpflag_ss  koi_fpflag_co  \\\n",
       "0       CONFIRMED      1.000              0              0              0   \n",
       "1       CONFIRMED      0.969              0              0              0   \n",
       "2  FALSE POSITIVE      0.000              0              1              0   \n",
       "3  FALSE POSITIVE      0.000              0              1              0   \n",
       "4       CONFIRMED      1.000              0              0              0   \n",
       "\n",
       "   koi_fpflag_ec  koi_period  koi_period_err1  koi_period_err2  koi_time0bk  \\\n",
       "0              0    9.488036     2.775000e-05    -2.775000e-05   170.538750   \n",
       "1              0   54.418383     2.479000e-04    -2.479000e-04   162.513840   \n",
       "2              0   19.899140     1.494000e-05    -1.494000e-05   175.850252   \n",
       "3              0    1.736952     2.630000e-07    -2.630000e-07   170.307565   \n",
       "4              0    2.525592     3.761000e-06    -3.761000e-06   171.595550   \n",
       "\n",
       "   ...  koi_steff_err2  koi_slogg  koi_slogg_err1  koi_slogg_err2  koi_srad  \\\n",
       "0  ...           -81.0      4.467           0.064          -0.096     0.927   \n",
       "1  ...           -81.0      4.467           0.064          -0.096     0.927   \n",
       "2  ...          -176.0      4.544           0.044          -0.176     0.868   \n",
       "3  ...          -174.0      4.564           0.053          -0.168     0.791   \n",
       "4  ...          -211.0      4.438           0.070          -0.210     1.046   \n",
       "\n",
       "   koi_srad_err1  koi_srad_err2         ra        dec  koi_kepmag  \n",
       "0          0.105         -0.061  291.93423  48.141651      15.347  \n",
       "1          0.105         -0.061  291.93423  48.141651      15.347  \n",
       "2          0.233         -0.078  297.00482  48.134129      15.436  \n",
       "3          0.201         -0.067  285.53461  48.285210      15.597  \n",
       "4          0.334         -0.133  288.75488  48.226200      15.509  \n",
       "\n",
       "[5 rows x 42 columns]"
      ]
     },
     "execution_count": 3,
     "metadata": {},
     "output_type": "execute_result"
    }
   ],
   "source": [
    "# Read the csv file into a pandas DataFrame\n",
    "\n",
    "exo = pd.read_csv('exo_clean.csv')\n",
    "exo.head()"
   ]
  },
  {
   "cell_type": "code",
   "execution_count": 4,
   "id": "7d73c903",
   "metadata": {},
   "outputs": [
    {
     "data": {
      "text/plain": [
       "Index(['koi_disposition', 'koi_score', 'koi_fpflag_nt', 'koi_fpflag_ss',\n",
       "       'koi_fpflag_co', 'koi_fpflag_ec', 'koi_period', 'koi_period_err1',\n",
       "       'koi_period_err2', 'koi_time0bk', 'koi_time0bk_err1',\n",
       "       'koi_time0bk_err2', 'koi_impact', 'koi_impact_err1', 'koi_impact_err2',\n",
       "       'koi_duration', 'koi_duration_err1', 'koi_duration_err2', 'koi_depth',\n",
       "       'koi_depth_err1', 'koi_depth_err2', 'koi_prad', 'koi_prad_err1',\n",
       "       'koi_prad_err2', 'koi_teq', 'koi_insol', 'koi_insol_err1',\n",
       "       'koi_insol_err2', 'koi_model_snr', 'koi_tce_plnt_num', 'koi_steff',\n",
       "       'koi_steff_err1', 'koi_steff_err2', 'koi_slogg', 'koi_slogg_err1',\n",
       "       'koi_slogg_err2', 'koi_srad', 'koi_srad_err1', 'koi_srad_err2', 'ra',\n",
       "       'dec', 'koi_kepmag'],\n",
       "      dtype='object')"
      ]
     },
     "execution_count": 4,
     "metadata": {},
     "output_type": "execute_result"
    }
   ],
   "source": [
    "exo.columns\n"
   ]
  },
  {
   "cell_type": "code",
   "execution_count": 5,
   "id": "995fdd7d",
   "metadata": {},
   "outputs": [
    {
     "data": {
      "text/html": [
       "<div>\n",
       "<style scoped>\n",
       "    .dataframe tbody tr th:only-of-type {\n",
       "        vertical-align: middle;\n",
       "    }\n",
       "\n",
       "    .dataframe tbody tr th {\n",
       "        vertical-align: top;\n",
       "    }\n",
       "\n",
       "    .dataframe thead th {\n",
       "        text-align: right;\n",
       "    }\n",
       "</style>\n",
       "<table border=\"1\" class=\"dataframe\">\n",
       "  <thead>\n",
       "    <tr style=\"text-align: right;\">\n",
       "      <th></th>\n",
       "      <th>koi_score</th>\n",
       "      <th>koi_fpflag_co</th>\n",
       "      <th>koi_model_snr</th>\n",
       "    </tr>\n",
       "  </thead>\n",
       "  <tbody>\n",
       "    <tr>\n",
       "      <th>0</th>\n",
       "      <td>1.000</td>\n",
       "      <td>0</td>\n",
       "      <td>35.8</td>\n",
       "    </tr>\n",
       "    <tr>\n",
       "      <th>1</th>\n",
       "      <td>0.969</td>\n",
       "      <td>0</td>\n",
       "      <td>25.8</td>\n",
       "    </tr>\n",
       "    <tr>\n",
       "      <th>2</th>\n",
       "      <td>0.000</td>\n",
       "      <td>0</td>\n",
       "      <td>76.3</td>\n",
       "    </tr>\n",
       "    <tr>\n",
       "      <th>3</th>\n",
       "      <td>0.000</td>\n",
       "      <td>0</td>\n",
       "      <td>505.6</td>\n",
       "    </tr>\n",
       "    <tr>\n",
       "      <th>4</th>\n",
       "      <td>1.000</td>\n",
       "      <td>0</td>\n",
       "      <td>40.9</td>\n",
       "    </tr>\n",
       "  </tbody>\n",
       "</table>\n",
       "</div>"
      ],
      "text/plain": [
       "   koi_score  koi_fpflag_co  koi_model_snr\n",
       "0      1.000              0           35.8\n",
       "1      0.969              0           25.8\n",
       "2      0.000              0           76.3\n",
       "3      0.000              0          505.6\n",
       "4      1.000              0           40.9"
      ]
     },
     "execution_count": 5,
     "metadata": {},
     "output_type": "execute_result"
    }
   ],
   "source": [
    "target = exo['koi_disposition']\n",
    "data = exo[['koi_score','koi_fpflag_co','koi_model_snr']]\n",
    "feature_names = data.columns\n",
    "data.head()"
   ]
  },
  {
   "cell_type": "code",
   "execution_count": 6,
   "id": "1ab3784c",
   "metadata": {},
   "outputs": [],
   "source": [
    "# create train test split\n",
    "from sklearn.model_selection import train_test_split\n",
    "X_train, X_test, y_train, y_test = train_test_split(data, target, random_state=42)"
   ]
  },
  {
   "cell_type": "code",
   "execution_count": 7,
   "id": "7b92580a",
   "metadata": {},
   "outputs": [
    {
     "data": {
      "text/html": [
       "<div>\n",
       "<style scoped>\n",
       "    .dataframe tbody tr th:only-of-type {\n",
       "        vertical-align: middle;\n",
       "    }\n",
       "\n",
       "    .dataframe tbody tr th {\n",
       "        vertical-align: top;\n",
       "    }\n",
       "\n",
       "    .dataframe thead th {\n",
       "        text-align: right;\n",
       "    }\n",
       "</style>\n",
       "<table border=\"1\" class=\"dataframe\">\n",
       "  <thead>\n",
       "    <tr style=\"text-align: right;\">\n",
       "      <th></th>\n",
       "      <th>koi_score</th>\n",
       "      <th>koi_fpflag_co</th>\n",
       "      <th>koi_model_snr</th>\n",
       "    </tr>\n",
       "  </thead>\n",
       "  <tbody>\n",
       "    <tr>\n",
       "      <th>6160</th>\n",
       "      <td>0.994</td>\n",
       "      <td>0</td>\n",
       "      <td>9.9</td>\n",
       "    </tr>\n",
       "    <tr>\n",
       "      <th>2164</th>\n",
       "      <td>0.717</td>\n",
       "      <td>0</td>\n",
       "      <td>18.1</td>\n",
       "    </tr>\n",
       "    <tr>\n",
       "      <th>4626</th>\n",
       "      <td>0.999</td>\n",
       "      <td>0</td>\n",
       "      <td>20.2</td>\n",
       "    </tr>\n",
       "    <tr>\n",
       "      <th>6074</th>\n",
       "      <td>0.000</td>\n",
       "      <td>0</td>\n",
       "      <td>27.0</td>\n",
       "    </tr>\n",
       "    <tr>\n",
       "      <th>4663</th>\n",
       "      <td>0.905</td>\n",
       "      <td>0</td>\n",
       "      <td>9.7</td>\n",
       "    </tr>\n",
       "  </tbody>\n",
       "</table>\n",
       "</div>"
      ],
      "text/plain": [
       "      koi_score  koi_fpflag_co  koi_model_snr\n",
       "6160      0.994              0            9.9\n",
       "2164      0.717              0           18.1\n",
       "4626      0.999              0           20.2\n",
       "6074      0.000              0           27.0\n",
       "4663      0.905              0            9.7"
      ]
     },
     "execution_count": 7,
     "metadata": {},
     "output_type": "execute_result"
    }
   ],
   "source": [
    "X_train.head()"
   ]
  },
  {
   "cell_type": "code",
   "execution_count": 8,
   "id": "83ebdc20",
   "metadata": {},
   "outputs": [
    {
     "data": {
      "text/plain": [
       "6160         CANDIDATE\n",
       "2164         CANDIDATE\n",
       "4626         CONFIRMED\n",
       "6074    FALSE POSITIVE\n",
       "4663         CANDIDATE\n",
       "Name: koi_disposition, dtype: object"
      ]
     },
     "execution_count": 8,
     "metadata": {},
     "output_type": "execute_result"
    }
   ],
   "source": [
    "y_train.head()"
   ]
  },
  {
   "cell_type": "markdown",
   "id": "2530446b",
   "metadata": {},
   "source": [
    "### Pre processing"
   ]
  },
  {
   "cell_type": "code",
   "execution_count": 9,
   "id": "357228af",
   "metadata": {},
   "outputs": [],
   "source": [
    "from sklearn.preprocessing import MinMaxScaler\n",
    "X_minmax = MinMaxScaler().fit(X_train)\n",
    "X_train_minmax = X_minmax.transform(X_train)\n",
    "X_test_minmax = X_minmax.transform(X_test)"
   ]
  },
  {
   "cell_type": "code",
   "execution_count": 10,
   "id": "07c56a68",
   "metadata": {},
   "outputs": [
    {
     "name": "stdout",
     "output_type": "stream",
     "text": [
      "MinMaxScaler()\n",
      "[[9.94000000e-01 0.00000000e+00 8.06442704e-04]\n",
      " [7.17000000e-01 0.00000000e+00 1.71230985e-03]\n",
      " [9.99000000e-01 0.00000000e+00 1.94430022e-03]\n",
      " ...\n",
      " [1.00000000e+00 0.00000000e+00 1.47148176e-02]\n",
      " [9.12000000e-01 0.00000000e+00 6.29688139e-04]\n",
      " [5.00000000e-02 0.00000000e+00 6.40735299e-04]]\n",
      "[[9.99000000e-01 0.00000000e+00 1.59079109e-03]\n",
      " [9.97000000e-01 0.00000000e+00 1.93325306e-03]\n",
      " [0.00000000e+00 1.00000000e+00 5.96546658e-04]\n",
      " ...\n",
      " [1.46000000e-01 0.00000000e+00 5.19216535e-04]\n",
      " [9.43000000e-01 0.00000000e+00 9.50055788e-04]\n",
      " [0.00000000e+00 0.00000000e+00 7.84348383e-04]]\n"
     ]
    }
   ],
   "source": [
    "print(X_minmax)\n",
    "print(X_train_minmax)\n",
    "print(X_test_minmax)"
   ]
  },
  {
   "cell_type": "markdown",
   "id": "9eb687ba",
   "metadata": {},
   "source": [
    "### Train the model (Random Forest)"
   ]
  },
  {
   "cell_type": "code",
   "execution_count": 11,
   "id": "f6c97d51",
   "metadata": {},
   "outputs": [
    {
     "data": {
      "text/plain": [
       "RandomForestClassifier()"
      ]
     },
     "execution_count": 11,
     "metadata": {},
     "output_type": "execute_result"
    }
   ],
   "source": [
    "from sklearn.ensemble import RandomForestClassifier\n",
    "rf = RandomForestClassifier()\n",
    "rf.fit(X_train_minmax, y_train)"
   ]
  },
  {
   "cell_type": "code",
   "execution_count": 12,
   "id": "217aa558",
   "metadata": {},
   "outputs": [
    {
     "name": "stdout",
     "output_type": "stream",
     "text": [
      "Training Data Score: 0.9654818865345182\n",
      "Testing Data Score: 0.8195797027165556\n"
     ]
    }
   ],
   "source": [
    "print(f\"Training Data Score: {rf.score(X_train_minmax, y_train)}\")\n",
    "print(f\"Testing Data Score: {rf.score(X_test_minmax, y_test)}\")"
   ]
  },
  {
   "cell_type": "code",
   "execution_count": 13,
   "id": "1080f3c4",
   "metadata": {},
   "outputs": [
    {
     "data": {
      "text/plain": [
       "[(0.5775938912931639, 'koi_score'),\n",
       " (0.3332484791817731, 'koi_model_snr'),\n",
       " (0.08915762952506304, 'koi_fpflag_co')]"
      ]
     },
     "execution_count": 13,
     "metadata": {},
     "output_type": "execute_result"
    }
   ],
   "source": [
    "sorted(zip(rf.feature_importances_, feature_names), reverse=True)"
   ]
  },
  {
   "cell_type": "code",
   "execution_count": 14,
   "id": "56276ecf",
   "metadata": {},
   "outputs": [
    {
     "data": {
      "image/png": "[encoded data removed]",
      "text/plain": [
       "<Figure size 432x288 with 1 Axes>"
      ]
     },
     "metadata": {
      "needs_background": "light"
     },
     "output_type": "display_data"
    }
   ],
   "source": [
    "features = feature_names\n",
    "importances = rf.feature_importances_\n",
    "indices = np.argsort(importances)\n",
    "\n",
    "plt.title('Feature Importances')\n",
    "plt.barh(range(len(indices)), importances[indices], color='b', align='center')\n",
    "plt.yticks(range(len(indices)), [features[i] for i in indices])\n",
    "plt.xlabel('Relative Importance')\n",
    "plt.show()"
   ]
  },
  {
   "cell_type": "markdown",
   "id": "104767d1",
   "metadata": {},
   "source": [
    "### Hyperparameter tuning"
   ]
  },
  {
   "cell_type": "code",
   "execution_count": 15,
   "id": "51cb20a9",
   "metadata": {},
   "outputs": [],
   "source": [
    "# gridsearchcv\n",
    "from sklearn.model_selection import GridSearchCV\n",
    "param_grid = {'n_estimators': [250,300,350],\n",
    "              'max_depth': [125,150,175]}\n",
    "grid = GridSearchCV(rf, param_grid, verbose=3)"
   ]
  },
  {
   "cell_type": "code",
   "execution_count": 16,
   "id": "807c87ce",
   "metadata": {},
   "outputs": [
    {
     "name": "stdout",
     "output_type": "stream",
     "text": [
      "Fitting 5 folds for each of 9 candidates, totalling 45 fits\n",
      "[CV 1/5] END ...max_depth=125, n_estimators=250;, score=0.822 total time=   1.3s\n",
      "[CV 2/5] END ...max_depth=125, n_estimators=250;, score=0.826 total time=   1.1s\n",
      "[CV 3/5] END ...max_depth=125, n_estimators=250;, score=0.828 total time=   1.1s\n",
      "[CV 4/5] END ...max_depth=125, n_estimators=250;, score=0.829 total time=   1.1s\n",
      "[CV 5/5] END ...max_depth=125, n_estimators=250;, score=0.828 total time=   1.1s\n",
      "[CV 1/5] END ...max_depth=125, n_estimators=300;, score=0.821 total time=   1.4s\n",
      "[CV 2/5] END ...max_depth=125, n_estimators=300;, score=0.827 total time=   1.3s\n",
      "[CV 3/5] END ...max_depth=125, n_estimators=300;, score=0.827 total time=   1.3s\n",
      "[CV 4/5] END ...max_depth=125, n_estimators=300;, score=0.832 total time=   1.4s\n",
      "[CV 5/5] END ...max_depth=125, n_estimators=300;, score=0.826 total time=   1.3s\n",
      "[CV 1/5] END ...max_depth=125, n_estimators=350;, score=0.820 total time=   1.6s\n",
      "[CV 2/5] END ...max_depth=125, n_estimators=350;, score=0.831 total time=   1.7s\n",
      "[CV 3/5] END ...max_depth=125, n_estimators=350;, score=0.833 total time=   1.6s\n",
      "[CV 4/5] END ...max_depth=125, n_estimators=350;, score=0.830 total time=   1.7s\n",
      "[CV 5/5] END ...max_depth=125, n_estimators=350;, score=0.825 total time=   1.5s\n",
      "[CV 1/5] END ...max_depth=150, n_estimators=250;, score=0.823 total time=   1.1s\n",
      "[CV 2/5] END ...max_depth=150, n_estimators=250;, score=0.833 total time=   1.1s\n",
      "[CV 3/5] END ...max_depth=150, n_estimators=250;, score=0.832 total time=   1.1s\n",
      "[CV 4/5] END ...max_depth=150, n_estimators=250;, score=0.824 total time=   1.1s\n",
      "[CV 5/5] END ...max_depth=150, n_estimators=250;, score=0.828 total time=   1.1s\n",
      "[CV 1/5] END ...max_depth=150, n_estimators=300;, score=0.819 total time=   1.4s\n",
      "[CV 2/5] END ...max_depth=150, n_estimators=300;, score=0.827 total time=   1.4s\n",
      "[CV 3/5] END ...max_depth=150, n_estimators=300;, score=0.830 total time=   1.5s\n",
      "[CV 4/5] END ...max_depth=150, n_estimators=300;, score=0.827 total time=   1.4s\n",
      "[CV 5/5] END ...max_depth=150, n_estimators=300;, score=0.824 total time=   1.3s\n",
      "[CV 1/5] END ...max_depth=150, n_estimators=350;, score=0.821 total time=   1.6s\n",
      "[CV 2/5] END ...max_depth=150, n_estimators=350;, score=0.829 total time=   1.6s\n",
      "[CV 3/5] END ...max_depth=150, n_estimators=350;, score=0.833 total time=   1.6s\n",
      "[CV 4/5] END ...max_depth=150, n_estimators=350;, score=0.826 total time=   1.6s\n",
      "[CV 5/5] END ...max_depth=150, n_estimators=350;, score=0.826 total time=   1.6s\n",
      "[CV 1/5] END ...max_depth=175, n_estimators=250;, score=0.819 total time=   1.1s\n",
      "[CV 2/5] END ...max_depth=175, n_estimators=250;, score=0.826 total time=   1.1s\n",
      "[CV 3/5] END ...max_depth=175, n_estimators=250;, score=0.828 total time=   1.2s\n",
      "[CV 4/5] END ...max_depth=175, n_estimators=250;, score=0.833 total time=   1.2s\n",
      "[CV 5/5] END ...max_depth=175, n_estimators=250;, score=0.826 total time=   1.1s\n",
      "[CV 1/5] END ...max_depth=175, n_estimators=300;, score=0.822 total time=   1.3s\n",
      "[CV 2/5] END ...max_depth=175, n_estimators=300;, score=0.829 total time=   1.4s\n",
      "[CV 3/5] END ...max_depth=175, n_estimators=300;, score=0.825 total time=   1.3s\n",
      "[CV 4/5] END ...max_depth=175, n_estimators=300;, score=0.826 total time=   1.3s\n",
      "[CV 5/5] END ...max_depth=175, n_estimators=300;, score=0.824 total time=   1.3s\n",
      "[CV 1/5] END ...max_depth=175, n_estimators=350;, score=0.825 total time=   1.7s\n",
      "[CV 2/5] END ...max_depth=175, n_estimators=350;, score=0.829 total time=   1.7s\n",
      "[CV 3/5] END ...max_depth=175, n_estimators=350;, score=0.831 total time=   1.8s\n",
      "[CV 4/5] END ...max_depth=175, n_estimators=350;, score=0.829 total time=   1.8s\n",
      "[CV 5/5] END ...max_depth=175, n_estimators=350;, score=0.821 total time=   1.6s\n"
     ]
    },
    {
     "data": {
      "text/plain": [
       "GridSearchCV(estimator=RandomForestClassifier(),\n",
       "             param_grid={'max_depth': [125, 150, 175],\n",
       "                         'n_estimators': [250, 300, 350]},\n",
       "             verbose=3)"
      ]
     },
     "execution_count": 16,
     "metadata": {},
     "output_type": "execute_result"
    }
   ],
   "source": [
    "grid.fit(X_train_minmax, y_train)"
   ]
  },
  {
   "cell_type": "code",
   "execution_count": 17,
   "id": "d3575ce3",
   "metadata": {},
   "outputs": [
    {
     "name": "stdout",
     "output_type": "stream",
     "text": [
      "{'max_depth': 150, 'n_estimators': 250}\n",
      "0.8280930171451093\n"
     ]
    }
   ],
   "source": [
    "# print best params and score\n",
    "print(grid.best_params_)\n",
    "print(grid.best_score_)"
   ]
  },
  {
   "cell_type": "code",
   "execution_count": 18,
   "id": "e8b76f89",
   "metadata": {},
   "outputs": [
    {
     "data": {
      "text/plain": [
       "0.9654818865345182"
      ]
     },
     "execution_count": 18,
     "metadata": {},
     "output_type": "execute_result"
    }
   ],
   "source": [
    "# print training score\n",
    "grid.score(X_train_minmax, y_train)"
   ]
  },
  {
   "cell_type": "code",
   "execution_count": 19,
   "id": "cd6f3d9c",
   "metadata": {},
   "outputs": [
    {
     "data": {
      "text/plain": [
       "0.8231676063557151"
      ]
     },
     "execution_count": 19,
     "metadata": {},
     "output_type": "execute_result"
    }
   ],
   "source": [
    "# print testing score\n",
    "grid.score(X_test_minmax,y_test)"
   ]
  },
  {
   "cell_type": "code",
   "execution_count": 20,
   "id": "db4861ff",
   "metadata": {},
   "outputs": [
    {
     "name": "stdout",
     "output_type": "stream",
     "text": [
      "['CONFIRMED' 'CANDIDATE' 'FALSE POSITIVE' ... 'FALSE POSITIVE' 'CANDIDATE'\n",
      " 'FALSE POSITIVE']\n"
     ]
    }
   ],
   "source": [
    "# make predictions\n",
    "predictions = grid.predict(X_test_minmax)\n",
    "print(predictions)"
   ]
  },
  {
   "cell_type": "code",
   "execution_count": 21,
   "id": "faca3e6f",
   "metadata": {},
   "outputs": [
    {
     "name": "stdout",
     "output_type": "stream",
     "text": [
      "                precision    recall  f1-score   support\n",
      "\n",
      "     CANDIDATE       0.64      0.60      0.62       446\n",
      "     CONFIRMED       0.70      0.74      0.72       572\n",
      "FALSE POSITIVE       0.98      0.98      0.98       933\n",
      "\n",
      "      accuracy                           0.82      1951\n",
      "     macro avg       0.78      0.77      0.77      1951\n",
      "  weighted avg       0.82      0.82      0.82      1951\n",
      "\n"
     ]
    }
   ],
   "source": [
    "# print classification\n",
    "from sklearn.metrics import classification_report\n",
    "print(classification_report(y_test,predictions))"
   ]
  },
  {
   "cell_type": "code",
   "execution_count": null,
   "id": "a2758bb3",
   "metadata": {},
   "outputs": [],
   "source": [
    "# save the model\n",
    "import joblib\n",
    "filename = 'rf.sav'\n",
    "joblib.dump(rf, filename)"
   ]
  },
  {
   "cell_type": "code",
   "execution_count": null,
   "id": "5029ef38",
   "metadata": {},
   "outputs": [],
   "source": []
  }
 ],
 "metadata": {
  "kernelspec": {
   "display_name": "Python 3",
   "language": "python",
   "name": "python3"
  },
  "language_info": {
   "codemirror_mode": {
    "name": "ipython",
    "version": 3
   },
   "file_extension": ".py",
   "mimetype": "text/x-python",
   "name": "python",
   "nbconvert_exporter": "python",
   "pygments_lexer": "ipython3",
   "version": "3.8.10"
  }
 },
 "nbformat": 4,
 "nbformat_minor": 5
}
