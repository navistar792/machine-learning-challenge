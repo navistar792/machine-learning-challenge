{
 "cells": [
  {
   "cell_type": "code",
   "execution_count": 1,
   "id": "f25855aa",
   "metadata": {},
   "outputs": [],
   "source": [
    "# import warnings\n",
    "# warnings.simplefilter('ignore')\n",
    "\n",
    "# %matplotlib inline\n",
    "import matplotlib.pyplot as plt\n",
    "import numpy as np\n",
    "import pandas as pd"
   ]
  },
  {
   "cell_type": "code",
   "execution_count": 2,
   "id": "a8feb8bc",
   "metadata": {},
   "outputs": [
    {
     "data": {
      "text/html": [
       "<div>\n",
       "<style scoped>\n",
       "    .dataframe tbody tr th:only-of-type {\n",
       "        vertical-align: middle;\n",
       "    }\n",
       "\n",
       "    .dataframe tbody tr th {\n",
       "        vertical-align: top;\n",
       "    }\n",
       "\n",
       "    .dataframe thead th {\n",
       "        text-align: right;\n",
       "    }\n",
       "</style>\n",
       "<table border=\"1\" class=\"dataframe\">\n",
       "  <thead>\n",
       "    <tr style=\"text-align: right;\">\n",
       "      <th></th>\n",
       "      <th>koi_disposition</th>\n",
       "      <th>koi_score</th>\n",
       "      <th>koi_fpflag_nt</th>\n",
       "      <th>koi_fpflag_ss</th>\n",
       "      <th>koi_fpflag_co</th>\n",
       "      <th>koi_fpflag_ec</th>\n",
       "      <th>koi_period</th>\n",
       "      <th>koi_period_err1</th>\n",
       "      <th>koi_period_err2</th>\n",
       "      <th>koi_time0bk</th>\n",
       "      <th>...</th>\n",
       "      <th>koi_steff_err2</th>\n",
       "      <th>koi_slogg</th>\n",
       "      <th>koi_slogg_err1</th>\n",
       "      <th>koi_slogg_err2</th>\n",
       "      <th>koi_srad</th>\n",
       "      <th>koi_srad_err1</th>\n",
       "      <th>koi_srad_err2</th>\n",
       "      <th>ra</th>\n",
       "      <th>dec</th>\n",
       "      <th>koi_kepmag</th>\n",
       "    </tr>\n",
       "  </thead>\n",
       "  <tbody>\n",
       "    <tr>\n",
       "      <th>0</th>\n",
       "      <td>CONFIRMED</td>\n",
       "      <td>1.000</td>\n",
       "      <td>0</td>\n",
       "      <td>0</td>\n",
       "      <td>0</td>\n",
       "      <td>0</td>\n",
       "      <td>9.488036</td>\n",
       "      <td>2.775000e-05</td>\n",
       "      <td>-2.775000e-05</td>\n",
       "      <td>170.538750</td>\n",
       "      <td>...</td>\n",
       "      <td>-81.0</td>\n",
       "      <td>4.467</td>\n",
       "      <td>0.064</td>\n",
       "      <td>-0.096</td>\n",
       "      <td>0.927</td>\n",
       "      <td>0.105</td>\n",
       "      <td>-0.061</td>\n",
       "      <td>291.93423</td>\n",
       "      <td>48.141651</td>\n",
       "      <td>15.347</td>\n",
       "    </tr>\n",
       "    <tr>\n",
       "      <th>1</th>\n",
       "      <td>CONFIRMED</td>\n",
       "      <td>0.969</td>\n",
       "      <td>0</td>\n",
       "      <td>0</td>\n",
       "      <td>0</td>\n",
       "      <td>0</td>\n",
       "      <td>54.418383</td>\n",
       "      <td>2.479000e-04</td>\n",
       "      <td>-2.479000e-04</td>\n",
       "      <td>162.513840</td>\n",
       "      <td>...</td>\n",
       "      <td>-81.0</td>\n",
       "      <td>4.467</td>\n",
       "      <td>0.064</td>\n",
       "      <td>-0.096</td>\n",
       "      <td>0.927</td>\n",
       "      <td>0.105</td>\n",
       "      <td>-0.061</td>\n",
       "      <td>291.93423</td>\n",
       "      <td>48.141651</td>\n",
       "      <td>15.347</td>\n",
       "    </tr>\n",
       "    <tr>\n",
       "      <th>2</th>\n",
       "      <td>FALSE POSITIVE</td>\n",
       "      <td>0.000</td>\n",
       "      <td>0</td>\n",
       "      <td>1</td>\n",
       "      <td>0</td>\n",
       "      <td>0</td>\n",
       "      <td>19.899140</td>\n",
       "      <td>1.494000e-05</td>\n",
       "      <td>-1.494000e-05</td>\n",
       "      <td>175.850252</td>\n",
       "      <td>...</td>\n",
       "      <td>-176.0</td>\n",
       "      <td>4.544</td>\n",
       "      <td>0.044</td>\n",
       "      <td>-0.176</td>\n",
       "      <td>0.868</td>\n",
       "      <td>0.233</td>\n",
       "      <td>-0.078</td>\n",
       "      <td>297.00482</td>\n",
       "      <td>48.134129</td>\n",
       "      <td>15.436</td>\n",
       "    </tr>\n",
       "    <tr>\n",
       "      <th>3</th>\n",
       "      <td>FALSE POSITIVE</td>\n",
       "      <td>0.000</td>\n",
       "      <td>0</td>\n",
       "      <td>1</td>\n",
       "      <td>0</td>\n",
       "      <td>0</td>\n",
       "      <td>1.736952</td>\n",
       "      <td>2.630000e-07</td>\n",
       "      <td>-2.630000e-07</td>\n",
       "      <td>170.307565</td>\n",
       "      <td>...</td>\n",
       "      <td>-174.0</td>\n",
       "      <td>4.564</td>\n",
       "      <td>0.053</td>\n",
       "      <td>-0.168</td>\n",
       "      <td>0.791</td>\n",
       "      <td>0.201</td>\n",
       "      <td>-0.067</td>\n",
       "      <td>285.53461</td>\n",
       "      <td>48.285210</td>\n",
       "      <td>15.597</td>\n",
       "    </tr>\n",
       "    <tr>\n",
       "      <th>4</th>\n",
       "      <td>CONFIRMED</td>\n",
       "      <td>1.000</td>\n",
       "      <td>0</td>\n",
       "      <td>0</td>\n",
       "      <td>0</td>\n",
       "      <td>0</td>\n",
       "      <td>2.525592</td>\n",
       "      <td>3.761000e-06</td>\n",
       "      <td>-3.761000e-06</td>\n",
       "      <td>171.595550</td>\n",
       "      <td>...</td>\n",
       "      <td>-211.0</td>\n",
       "      <td>4.438</td>\n",
       "      <td>0.070</td>\n",
       "      <td>-0.210</td>\n",
       "      <td>1.046</td>\n",
       "      <td>0.334</td>\n",
       "      <td>-0.133</td>\n",
       "      <td>288.75488</td>\n",
       "      <td>48.226200</td>\n",
       "      <td>15.509</td>\n",
       "    </tr>\n",
       "  </tbody>\n",
       "</table>\n",
       "<p>5 rows × 42 columns</p>\n",
       "</div>"
      ],
      "text/plain": [
       "  koi_disposition  koi_score  koi_fpflag_nt  koi_fpflag_ss  koi_fpflag_co  \\\n",
       "0       CONFIRMED      1.000              0              0              0   \n",
       "1       CONFIRMED      0.969              0              0              0   \n",
       "2  FALSE POSITIVE      0.000              0              1              0   \n",
       "3  FALSE POSITIVE      0.000              0              1              0   \n",
       "4       CONFIRMED      1.000              0              0              0   \n",
       "\n",
       "   koi_fpflag_ec  koi_period  koi_period_err1  koi_period_err2  koi_time0bk  \\\n",
       "0              0    9.488036     2.775000e-05    -2.775000e-05   170.538750   \n",
       "1              0   54.418383     2.479000e-04    -2.479000e-04   162.513840   \n",
       "2              0   19.899140     1.494000e-05    -1.494000e-05   175.850252   \n",
       "3              0    1.736952     2.630000e-07    -2.630000e-07   170.307565   \n",
       "4              0    2.525592     3.761000e-06    -3.761000e-06   171.595550   \n",
       "\n",
       "   ...  koi_steff_err2  koi_slogg  koi_slogg_err1  koi_slogg_err2  koi_srad  \\\n",
       "0  ...           -81.0      4.467           0.064          -0.096     0.927   \n",
       "1  ...           -81.0      4.467           0.064          -0.096     0.927   \n",
       "2  ...          -176.0      4.544           0.044          -0.176     0.868   \n",
       "3  ...          -174.0      4.564           0.053          -0.168     0.791   \n",
       "4  ...          -211.0      4.438           0.070          -0.210     1.046   \n",
       "\n",
       "   koi_srad_err1  koi_srad_err2         ra        dec  koi_kepmag  \n",
       "0          0.105         -0.061  291.93423  48.141651      15.347  \n",
       "1          0.105         -0.061  291.93423  48.141651      15.347  \n",
       "2          0.233         -0.078  297.00482  48.134129      15.436  \n",
       "3          0.201         -0.067  285.53461  48.285210      15.597  \n",
       "4          0.334         -0.133  288.75488  48.226200      15.509  \n",
       "\n",
       "[5 rows x 42 columns]"
      ]
     },
     "execution_count": 2,
     "metadata": {},
     "output_type": "execute_result"
    }
   ],
   "source": [
    "# Read the csv file into a pandas DataFrame\n",
    "\n",
    "exo = pd.read_csv('exo_clean.csv')\n",
    "exo.head()"
   ]
  },
  {
   "cell_type": "code",
   "execution_count": 3,
   "id": "7d73c903",
   "metadata": {},
   "outputs": [
    {
     "data": {
      "text/plain": [
       "Index(['koi_disposition', 'koi_score', 'koi_fpflag_nt', 'koi_fpflag_ss',\n",
       "       'koi_fpflag_co', 'koi_fpflag_ec', 'koi_period', 'koi_period_err1',\n",
       "       'koi_period_err2', 'koi_time0bk', 'koi_time0bk_err1',\n",
       "       'koi_time0bk_err2', 'koi_impact', 'koi_impact_err1', 'koi_impact_err2',\n",
       "       'koi_duration', 'koi_duration_err1', 'koi_duration_err2', 'koi_depth',\n",
       "       'koi_depth_err1', 'koi_depth_err2', 'koi_prad', 'koi_prad_err1',\n",
       "       'koi_prad_err2', 'koi_teq', 'koi_insol', 'koi_insol_err1',\n",
       "       'koi_insol_err2', 'koi_model_snr', 'koi_tce_plnt_num', 'koi_steff',\n",
       "       'koi_steff_err1', 'koi_steff_err2', 'koi_slogg', 'koi_slogg_err1',\n",
       "       'koi_slogg_err2', 'koi_srad', 'koi_srad_err1', 'koi_srad_err2', 'ra',\n",
       "       'dec', 'koi_kepmag'],\n",
       "      dtype='object')"
      ]
     },
     "execution_count": 3,
     "metadata": {},
     "output_type": "execute_result"
    }
   ],
   "source": [
    "exo.columns\n"
   ]
  },
  {
   "cell_type": "code",
   "execution_count": 4,
   "id": "995fdd7d",
   "metadata": {},
   "outputs": [
    {
     "data": {
      "text/html": [
       "<div>\n",
       "<style scoped>\n",
       "    .dataframe tbody tr th:only-of-type {\n",
       "        vertical-align: middle;\n",
       "    }\n",
       "\n",
       "    .dataframe tbody tr th {\n",
       "        vertical-align: top;\n",
       "    }\n",
       "\n",
       "    .dataframe thead th {\n",
       "        text-align: right;\n",
       "    }\n",
       "</style>\n",
       "<table border=\"1\" class=\"dataframe\">\n",
       "  <thead>\n",
       "    <tr style=\"text-align: right;\">\n",
       "      <th></th>\n",
       "      <th>koi_score</th>\n",
       "      <th>koi_fpflag_co</th>\n",
       "      <th>koi_model_snr</th>\n",
       "      <th>koi_fpflag_ss</th>\n",
       "      <th>koi_prad</th>\n",
       "      <th>koi_prad_err2</th>\n",
       "      <th>koi_fpflag_nt</th>\n",
       "      <th>koi_prad_err1</th>\n",
       "      <th>koi_duration_err2</th>\n",
       "      <th>koi_duration_err1</th>\n",
       "      <th>...</th>\n",
       "      <th>koi_period</th>\n",
       "      <th>koi_depth</th>\n",
       "      <th>koi_impact</th>\n",
       "      <th>koi_teq</th>\n",
       "      <th>koi_time0bk_err1</th>\n",
       "      <th>koi_period_err2</th>\n",
       "      <th>koi_insol_err1</th>\n",
       "      <th>koi_time0bk</th>\n",
       "      <th>koi_depth_err2</th>\n",
       "      <th>koi_depth_err1</th>\n",
       "    </tr>\n",
       "  </thead>\n",
       "  <tbody>\n",
       "    <tr>\n",
       "      <th>0</th>\n",
       "      <td>1.000</td>\n",
       "      <td>0</td>\n",
       "      <td>35.8</td>\n",
       "      <td>0</td>\n",
       "      <td>2.26</td>\n",
       "      <td>-0.15</td>\n",
       "      <td>0</td>\n",
       "      <td>0.26</td>\n",
       "      <td>-0.08190</td>\n",
       "      <td>0.08190</td>\n",
       "      <td>...</td>\n",
       "      <td>9.488036</td>\n",
       "      <td>615.8</td>\n",
       "      <td>0.146</td>\n",
       "      <td>793.0</td>\n",
       "      <td>0.002160</td>\n",
       "      <td>-2.775000e-05</td>\n",
       "      <td>29.45</td>\n",
       "      <td>170.538750</td>\n",
       "      <td>-19.5</td>\n",
       "      <td>19.5</td>\n",
       "    </tr>\n",
       "    <tr>\n",
       "      <th>1</th>\n",
       "      <td>0.969</td>\n",
       "      <td>0</td>\n",
       "      <td>25.8</td>\n",
       "      <td>0</td>\n",
       "      <td>2.83</td>\n",
       "      <td>-0.19</td>\n",
       "      <td>0</td>\n",
       "      <td>0.32</td>\n",
       "      <td>-0.11600</td>\n",
       "      <td>0.11600</td>\n",
       "      <td>...</td>\n",
       "      <td>54.418383</td>\n",
       "      <td>874.8</td>\n",
       "      <td>0.586</td>\n",
       "      <td>443.0</td>\n",
       "      <td>0.003520</td>\n",
       "      <td>-2.479000e-04</td>\n",
       "      <td>2.87</td>\n",
       "      <td>162.513840</td>\n",
       "      <td>-35.5</td>\n",
       "      <td>35.5</td>\n",
       "    </tr>\n",
       "    <tr>\n",
       "      <th>2</th>\n",
       "      <td>0.000</td>\n",
       "      <td>0</td>\n",
       "      <td>76.3</td>\n",
       "      <td>1</td>\n",
       "      <td>14.60</td>\n",
       "      <td>-1.31</td>\n",
       "      <td>0</td>\n",
       "      <td>3.92</td>\n",
       "      <td>-0.03410</td>\n",
       "      <td>0.03410</td>\n",
       "      <td>...</td>\n",
       "      <td>19.899140</td>\n",
       "      <td>10829.0</td>\n",
       "      <td>0.969</td>\n",
       "      <td>638.0</td>\n",
       "      <td>0.000581</td>\n",
       "      <td>-1.494000e-05</td>\n",
       "      <td>31.04</td>\n",
       "      <td>175.850252</td>\n",
       "      <td>-171.0</td>\n",
       "      <td>171.0</td>\n",
       "    </tr>\n",
       "    <tr>\n",
       "      <th>3</th>\n",
       "      <td>0.000</td>\n",
       "      <td>0</td>\n",
       "      <td>505.6</td>\n",
       "      <td>1</td>\n",
       "      <td>33.46</td>\n",
       "      <td>-2.83</td>\n",
       "      <td>0</td>\n",
       "      <td>8.50</td>\n",
       "      <td>-0.00537</td>\n",
       "      <td>0.00537</td>\n",
       "      <td>...</td>\n",
       "      <td>1.736952</td>\n",
       "      <td>8079.2</td>\n",
       "      <td>1.276</td>\n",
       "      <td>1395.0</td>\n",
       "      <td>0.000115</td>\n",
       "      <td>-2.630000e-07</td>\n",
       "      <td>668.95</td>\n",
       "      <td>170.307565</td>\n",
       "      <td>-12.8</td>\n",
       "      <td>12.8</td>\n",
       "    </tr>\n",
       "    <tr>\n",
       "      <th>4</th>\n",
       "      <td>1.000</td>\n",
       "      <td>0</td>\n",
       "      <td>40.9</td>\n",
       "      <td>0</td>\n",
       "      <td>2.75</td>\n",
       "      <td>-0.35</td>\n",
       "      <td>0</td>\n",
       "      <td>0.88</td>\n",
       "      <td>-0.04200</td>\n",
       "      <td>0.04200</td>\n",
       "      <td>...</td>\n",
       "      <td>2.525592</td>\n",
       "      <td>603.3</td>\n",
       "      <td>0.701</td>\n",
       "      <td>1406.0</td>\n",
       "      <td>0.001130</td>\n",
       "      <td>-3.761000e-06</td>\n",
       "      <td>874.33</td>\n",
       "      <td>171.595550</td>\n",
       "      <td>-16.9</td>\n",
       "      <td>16.9</td>\n",
       "    </tr>\n",
       "  </tbody>\n",
       "</table>\n",
       "<p>5 rows × 25 columns</p>\n",
       "</div>"
      ],
      "text/plain": [
       "   koi_score  koi_fpflag_co  koi_model_snr  koi_fpflag_ss  koi_prad  \\\n",
       "0      1.000              0           35.8              0      2.26   \n",
       "1      0.969              0           25.8              0      2.83   \n",
       "2      0.000              0           76.3              1     14.60   \n",
       "3      0.000              0          505.6              1     33.46   \n",
       "4      1.000              0           40.9              0      2.75   \n",
       "\n",
       "   koi_prad_err2  koi_fpflag_nt  koi_prad_err1  koi_duration_err2  \\\n",
       "0          -0.15              0           0.26           -0.08190   \n",
       "1          -0.19              0           0.32           -0.11600   \n",
       "2          -1.31              0           3.92           -0.03410   \n",
       "3          -2.83              0           8.50           -0.00537   \n",
       "4          -0.35              0           0.88           -0.04200   \n",
       "\n",
       "   koi_duration_err1  ...  koi_period  koi_depth  koi_impact  koi_teq  \\\n",
       "0            0.08190  ...    9.488036      615.8       0.146    793.0   \n",
       "1            0.11600  ...   54.418383      874.8       0.586    443.0   \n",
       "2            0.03410  ...   19.899140    10829.0       0.969    638.0   \n",
       "3            0.00537  ...    1.736952     8079.2       1.276   1395.0   \n",
       "4            0.04200  ...    2.525592      603.3       0.701   1406.0   \n",
       "\n",
       "   koi_time0bk_err1  koi_period_err2  koi_insol_err1  koi_time0bk  \\\n",
       "0          0.002160    -2.775000e-05           29.45   170.538750   \n",
       "1          0.003520    -2.479000e-04            2.87   162.513840   \n",
       "2          0.000581    -1.494000e-05           31.04   175.850252   \n",
       "3          0.000115    -2.630000e-07          668.95   170.307565   \n",
       "4          0.001130    -3.761000e-06          874.33   171.595550   \n",
       "\n",
       "   koi_depth_err2  koi_depth_err1  \n",
       "0           -19.5            19.5  \n",
       "1           -35.5            35.5  \n",
       "2          -171.0           171.0  \n",
       "3           -12.8            12.8  \n",
       "4           -16.9            16.9  \n",
       "\n",
       "[5 rows x 25 columns]"
      ]
     },
     "execution_count": 4,
     "metadata": {},
     "output_type": "execute_result"
    }
   ],
   "source": [
    "target = exo['koi_disposition']\n",
    "data = exo[['koi_score','koi_fpflag_co','koi_model_snr','koi_fpflag_ss','koi_prad','koi_prad_err2','koi_fpflag_nt','koi_prad_err1','koi_duration_err2','koi_duration_err1','koi_steff_err1','koi_fpflag_ec','koi_steff_err2','koi_duration','koi_time0bk_err2','koi_period','koi_depth','koi_impact','koi_teq','koi_time0bk_err1','koi_period_err2','koi_insol_err1','koi_time0bk','koi_depth_err2','koi_depth_err1']]\n",
    "feature_names = data.columns\n",
    "data.head()"
   ]
  },
  {
   "cell_type": "code",
   "execution_count": 5,
   "id": "1ab3784c",
   "metadata": {},
   "outputs": [],
   "source": [
    "# create train test split\n",
    "from sklearn.model_selection import train_test_split\n",
    "X_train, X_test, y_train, y_test = train_test_split(data, target, random_state=42)"
   ]
  },
  {
   "cell_type": "code",
   "execution_count": 6,
   "id": "7b92580a",
   "metadata": {},
   "outputs": [
    {
     "data": {
      "text/html": [
       "<div>\n",
       "<style scoped>\n",
       "    .dataframe tbody tr th:only-of-type {\n",
       "        vertical-align: middle;\n",
       "    }\n",
       "\n",
       "    .dataframe tbody tr th {\n",
       "        vertical-align: top;\n",
       "    }\n",
       "\n",
       "    .dataframe thead th {\n",
       "        text-align: right;\n",
       "    }\n",
       "</style>\n",
       "<table border=\"1\" class=\"dataframe\">\n",
       "  <thead>\n",
       "    <tr style=\"text-align: right;\">\n",
       "      <th></th>\n",
       "      <th>koi_score</th>\n",
       "      <th>koi_fpflag_co</th>\n",
       "      <th>koi_model_snr</th>\n",
       "      <th>koi_fpflag_ss</th>\n",
       "      <th>koi_prad</th>\n",
       "      <th>koi_prad_err2</th>\n",
       "      <th>koi_fpflag_nt</th>\n",
       "      <th>koi_prad_err1</th>\n",
       "      <th>koi_duration_err2</th>\n",
       "      <th>koi_duration_err1</th>\n",
       "      <th>...</th>\n",
       "      <th>koi_period</th>\n",
       "      <th>koi_depth</th>\n",
       "      <th>koi_impact</th>\n",
       "      <th>koi_teq</th>\n",
       "      <th>koi_time0bk_err1</th>\n",
       "      <th>koi_period_err2</th>\n",
       "      <th>koi_insol_err1</th>\n",
       "      <th>koi_time0bk</th>\n",
       "      <th>koi_depth_err2</th>\n",
       "      <th>koi_depth_err1</th>\n",
       "    </tr>\n",
       "  </thead>\n",
       "  <tbody>\n",
       "    <tr>\n",
       "      <th>6160</th>\n",
       "      <td>0.994</td>\n",
       "      <td>0</td>\n",
       "      <td>9.9</td>\n",
       "      <td>0</td>\n",
       "      <td>3.33</td>\n",
       "      <td>-2.47</td>\n",
       "      <td>0</td>\n",
       "      <td>0.61</td>\n",
       "      <td>-0.2250</td>\n",
       "      <td>0.2250</td>\n",
       "      <td>...</td>\n",
       "      <td>8.609654</td>\n",
       "      <td>63.2</td>\n",
       "      <td>0.213</td>\n",
       "      <td>1550.0</td>\n",
       "      <td>0.00653</td>\n",
       "      <td>-0.000070</td>\n",
       "      <td>838.61</td>\n",
       "      <td>134.38829</td>\n",
       "      <td>-7.9</td>\n",
       "      <td>7.9</td>\n",
       "    </tr>\n",
       "    <tr>\n",
       "      <th>2164</th>\n",
       "      <td>0.717</td>\n",
       "      <td>0</td>\n",
       "      <td>18.1</td>\n",
       "      <td>0</td>\n",
       "      <td>2.40</td>\n",
       "      <td>-0.16</td>\n",
       "      <td>0</td>\n",
       "      <td>0.09</td>\n",
       "      <td>-0.2630</td>\n",
       "      <td>0.2630</td>\n",
       "      <td>...</td>\n",
       "      <td>88.071277</td>\n",
       "      <td>885.4</td>\n",
       "      <td>0.347</td>\n",
       "      <td>330.0</td>\n",
       "      <td>0.00740</td>\n",
       "      <td>-0.000850</td>\n",
       "      <td>0.43</td>\n",
       "      <td>214.51304</td>\n",
       "      <td>-55.9</td>\n",
       "      <td>55.9</td>\n",
       "    </tr>\n",
       "    <tr>\n",
       "      <th>4626</th>\n",
       "      <td>0.999</td>\n",
       "      <td>0</td>\n",
       "      <td>20.2</td>\n",
       "      <td>0</td>\n",
       "      <td>1.51</td>\n",
       "      <td>-0.13</td>\n",
       "      <td>0</td>\n",
       "      <td>0.13</td>\n",
       "      <td>-0.0844</td>\n",
       "      <td>0.0844</td>\n",
       "      <td>...</td>\n",
       "      <td>5.709408</td>\n",
       "      <td>586.7</td>\n",
       "      <td>0.751</td>\n",
       "      <td>644.0</td>\n",
       "      <td>0.00256</td>\n",
       "      <td>-0.000018</td>\n",
       "      <td>12.62</td>\n",
       "      <td>137.12208</td>\n",
       "      <td>-34.0</td>\n",
       "      <td>34.0</td>\n",
       "    </tr>\n",
       "    <tr>\n",
       "      <th>6074</th>\n",
       "      <td>0.000</td>\n",
       "      <td>0</td>\n",
       "      <td>27.0</td>\n",
       "      <td>0</td>\n",
       "      <td>4.66</td>\n",
       "      <td>-0.32</td>\n",
       "      <td>1</td>\n",
       "      <td>0.31</td>\n",
       "      <td>-0.8950</td>\n",
       "      <td>0.8950</td>\n",
       "      <td>...</td>\n",
       "      <td>659.290700</td>\n",
       "      <td>338.1</td>\n",
       "      <td>0.982</td>\n",
       "      <td>322.0</td>\n",
       "      <td>0.01710</td>\n",
       "      <td>-0.011970</td>\n",
       "      <td>0.50</td>\n",
       "      <td>254.33000</td>\n",
       "      <td>-17.3</td>\n",
       "      <td>17.3</td>\n",
       "    </tr>\n",
       "    <tr>\n",
       "      <th>4663</th>\n",
       "      <td>0.905</td>\n",
       "      <td>0</td>\n",
       "      <td>9.7</td>\n",
       "      <td>0</td>\n",
       "      <td>1.25</td>\n",
       "      <td>-0.16</td>\n",
       "      <td>0</td>\n",
       "      <td>0.20</td>\n",
       "      <td>-0.8010</td>\n",
       "      <td>0.8010</td>\n",
       "      <td>...</td>\n",
       "      <td>6.685438</td>\n",
       "      <td>89.2</td>\n",
       "      <td>0.853</td>\n",
       "      <td>1040.0</td>\n",
       "      <td>0.01420</td>\n",
       "      <td>-0.000183</td>\n",
       "      <td>115.49</td>\n",
       "      <td>132.31840</td>\n",
       "      <td>-13.1</td>\n",
       "      <td>13.1</td>\n",
       "    </tr>\n",
       "  </tbody>\n",
       "</table>\n",
       "<p>5 rows × 25 columns</p>\n",
       "</div>"
      ],
      "text/plain": [
       "      koi_score  koi_fpflag_co  koi_model_snr  koi_fpflag_ss  koi_prad  \\\n",
       "6160      0.994              0            9.9              0      3.33   \n",
       "2164      0.717              0           18.1              0      2.40   \n",
       "4626      0.999              0           20.2              0      1.51   \n",
       "6074      0.000              0           27.0              0      4.66   \n",
       "4663      0.905              0            9.7              0      1.25   \n",
       "\n",
       "      koi_prad_err2  koi_fpflag_nt  koi_prad_err1  koi_duration_err2  \\\n",
       "6160          -2.47              0           0.61            -0.2250   \n",
       "2164          -0.16              0           0.09            -0.2630   \n",
       "4626          -0.13              0           0.13            -0.0844   \n",
       "6074          -0.32              1           0.31            -0.8950   \n",
       "4663          -0.16              0           0.20            -0.8010   \n",
       "\n",
       "      koi_duration_err1  ...  koi_period  koi_depth  koi_impact  koi_teq  \\\n",
       "6160             0.2250  ...    8.609654       63.2       0.213   1550.0   \n",
       "2164             0.2630  ...   88.071277      885.4       0.347    330.0   \n",
       "4626             0.0844  ...    5.709408      586.7       0.751    644.0   \n",
       "6074             0.8950  ...  659.290700      338.1       0.982    322.0   \n",
       "4663             0.8010  ...    6.685438       89.2       0.853   1040.0   \n",
       "\n",
       "      koi_time0bk_err1  koi_period_err2  koi_insol_err1  koi_time0bk  \\\n",
       "6160           0.00653        -0.000070          838.61    134.38829   \n",
       "2164           0.00740        -0.000850            0.43    214.51304   \n",
       "4626           0.00256        -0.000018           12.62    137.12208   \n",
       "6074           0.01710        -0.011970            0.50    254.33000   \n",
       "4663           0.01420        -0.000183          115.49    132.31840   \n",
       "\n",
       "      koi_depth_err2  koi_depth_err1  \n",
       "6160            -7.9             7.9  \n",
       "2164           -55.9            55.9  \n",
       "4626           -34.0            34.0  \n",
       "6074           -17.3            17.3  \n",
       "4663           -13.1            13.1  \n",
       "\n",
       "[5 rows x 25 columns]"
      ]
     },
     "execution_count": 6,
     "metadata": {},
     "output_type": "execute_result"
    }
   ],
   "source": [
    "X_train.head()"
   ]
  },
  {
   "cell_type": "code",
   "execution_count": 7,
   "id": "83ebdc20",
   "metadata": {},
   "outputs": [
    {
     "data": {
      "text/plain": [
       "6160         CANDIDATE\n",
       "2164         CANDIDATE\n",
       "4626         CONFIRMED\n",
       "6074    FALSE POSITIVE\n",
       "4663         CANDIDATE\n",
       "Name: koi_disposition, dtype: object"
      ]
     },
     "execution_count": 7,
     "metadata": {},
     "output_type": "execute_result"
    }
   ],
   "source": [
    "y_train.head()"
   ]
  },
  {
   "cell_type": "markdown",
   "id": "2530446b",
   "metadata": {},
   "source": [
    "### Pre processing"
   ]
  },
  {
   "cell_type": "code",
   "execution_count": 8,
   "id": "357228af",
   "metadata": {},
   "outputs": [],
   "source": [
    "from sklearn.preprocessing import MinMaxScaler\n",
    "X_minmax = MinMaxScaler().fit(X_train)\n",
    "X_train_minmax = X_minmax.transform(X_train)\n",
    "X_test_minmax = X_minmax.transform(X_test)"
   ]
  },
  {
   "cell_type": "code",
   "execution_count": 9,
   "id": "07c56a68",
   "metadata": {},
   "outputs": [
    {
     "name": "stdout",
     "output_type": "stream",
     "text": [
      "MinMaxScaler()\n",
      "[[9.94000000e-01 0.00000000e+00 8.06442704e-04 ... 1.02239723e-02\n",
      "  9.99425036e-01 5.74963610e-04]\n",
      " [7.17000000e-01 0.00000000e+00 1.71230985e-03 ... 6.94897527e-02\n",
      "  9.95931587e-01 4.06841339e-03]\n",
      " [9.99000000e-01 0.00000000e+00 1.94430022e-03 ... 1.22460716e-02\n",
      "  9.97525473e-01 2.47452693e-03]\n",
      " ...\n",
      " [1.00000000e+00 0.00000000e+00 1.47148176e-02 ... 1.41631527e-02\n",
      "  9.99417758e-01 5.82241630e-04]\n",
      " [9.12000000e-01 0.00000000e+00 6.29688139e-04 ... 8.80531707e-03\n",
      "  9.99257642e-01 7.42358079e-04]\n",
      " [5.00000000e-02 0.00000000e+00 6.40735299e-04 ... 2.01533628e-01\n",
      "  9.91411936e-01 8.58806405e-03]]\n",
      "[[9.99000000e-01 0.00000000e+00 1.59079109e-03 ... 1.43773903e-02\n",
      "  9.95698690e-01 4.30131004e-03]\n",
      " [9.97000000e-01 0.00000000e+00 1.93325306e-03 ... 1.71454604e-02\n",
      "  9.97983988e-01 2.01601164e-03]\n",
      " [0.00000000e+00 1.00000000e+00 5.96546658e-04 ... 1.48472058e-02\n",
      "  9.95960699e-01 4.03930131e-03]\n",
      " ...\n",
      " [1.46000000e-01 0.00000000e+00 5.19216535e-04 ... 2.54444412e-02\n",
      "  9.96048035e-01 3.95196507e-03]\n",
      " [9.43000000e-01 0.00000000e+00 9.50055788e-04 ... 9.09247131e-03\n",
      "  9.98442504e-01 1.55749636e-03]\n",
      " [0.00000000e+00 0.00000000e+00 7.84348383e-04 ... 8.10978428e-03\n",
      "  9.99483261e-01 5.16739447e-04]]\n"
     ]
    }
   ],
   "source": [
    "print(X_minmax)\n",
    "print(X_train_minmax)\n",
    "print(X_test_minmax)"
   ]
  },
  {
   "cell_type": "markdown",
   "id": "9eb687ba",
   "metadata": {},
   "source": [
    "### Train the model (Random Forest)"
   ]
  },
  {
   "cell_type": "code",
   "execution_count": 10,
   "id": "f6c97d51",
   "metadata": {},
   "outputs": [
    {
     "data": {
      "text/plain": [
       "RandomForestClassifier()"
      ]
     },
     "execution_count": 10,
     "metadata": {},
     "output_type": "execute_result"
    }
   ],
   "source": [
    "from sklearn.ensemble import RandomForestClassifier\n",
    "rf = RandomForestClassifier()\n",
    "rf.fit(X_train_minmax, y_train)"
   ]
  },
  {
   "cell_type": "code",
   "execution_count": 11,
   "id": "217aa558",
   "metadata": {},
   "outputs": [
    {
     "name": "stdout",
     "output_type": "stream",
     "text": [
      "Training Data Score: 1.0\n",
      "Testing Data Score: 0.8923628908252178\n"
     ]
    }
   ],
   "source": [
    "print(f\"Training Data Score: {rf.score(X_train_minmax, y_train)}\")\n",
    "print(f\"Testing Data Score: {rf.score(X_test_minmax, y_test)}\")"
   ]
  },
  {
   "cell_type": "code",
   "execution_count": 12,
   "id": "1080f3c4",
   "metadata": {},
   "outputs": [
    {
     "data": {
      "text/plain": [
       "[(0.2539347505444911, 'koi_score'),\n",
       " (0.08290827455743843, 'koi_fpflag_co'),\n",
       " (0.06219536044444784, 'koi_fpflag_ss'),\n",
       " (0.059233779140819474, 'koi_model_snr'),\n",
       " (0.05442134323528185, 'koi_prad'),\n",
       " (0.037181828235383595, 'koi_prad_err2'),\n",
       " (0.0365894042476291, 'koi_fpflag_nt'),\n",
       " (0.03521114894913077, 'koi_duration_err1'),\n",
       " (0.034972213167041105, 'koi_prad_err1'),\n",
       " (0.02870523581738133, 'koi_duration'),\n",
       " (0.028654234032284447, 'koi_duration_err2'),\n",
       " (0.02517903956726207, 'koi_steff_err1'),\n",
       " (0.024775156933507292, 'koi_impact'),\n",
       " (0.024442549919288722, 'koi_steff_err2'),\n",
       " (0.023617103242056712, 'koi_depth'),\n",
       " (0.021884170755160182, 'koi_period'),\n",
       " (0.021362333754299256, 'koi_time0bk_err2'),\n",
       " (0.020692995364638412, 'koi_time0bk_err1'),\n",
       " (0.020320665870024995, 'koi_insol_err1'),\n",
       " (0.01902255906581719, 'koi_fpflag_ec'),\n",
       " (0.01767039105166572, 'koi_period_err2'),\n",
       " (0.0170144325808025, 'koi_teq'),\n",
       " (0.01699557232639064, 'koi_time0bk'),\n",
       " (0.016602953341480535, 'koi_depth_err2'),\n",
       " (0.016412503856276694, 'koi_depth_err1')]"
      ]
     },
     "execution_count": 12,
     "metadata": {},
     "output_type": "execute_result"
    }
   ],
   "source": [
    "sorted(zip(rf.feature_importances_, feature_names), reverse=True)"
   ]
  },
  {
   "cell_type": "code",
   "execution_count": 13,
   "id": "56276ecf",
   "metadata": {},
   "outputs": [
    {
     "data": {
      "image/png": "[encoded data removed]",
      "text/plain": [
       "<Figure size 432x288 with 1 Axes>"
      ]
     },
     "metadata": {
      "needs_background": "light"
     },
     "output_type": "display_data"
    }
   ],
   "source": [
    "features = feature_names\n",
    "importances = rf.feature_importances_\n",
    "indices = np.argsort(importances)\n",
    "\n",
    "plt.title('Feature Importances')\n",
    "plt.barh(range(len(indices)), importances[indices], color='b', align='center')\n",
    "plt.yticks(range(len(indices)), [features[i] for i in indices])\n",
    "plt.xlabel('Relative Importance')\n",
    "plt.show()"
   ]
  },
  {
   "cell_type": "markdown",
   "id": "104767d1",
   "metadata": {},
   "source": [
    "### Hyperparameter tuning"
   ]
  },
  {
   "cell_type": "code",
   "execution_count": 14,
   "id": "51cb20a9",
   "metadata": {},
   "outputs": [],
   "source": [
    "# gridsearchcv\n",
    "from sklearn.model_selection import GridSearchCV\n",
    "param_grid = {'n_estimators': [250,300,350],\n",
    "              'max_depth': [125,150,175]}\n",
    "grid = GridSearchCV(rf, param_grid, verbose=3)"
   ]
  },
  {
   "cell_type": "code",
   "execution_count": 15,
   "id": "807c87ce",
   "metadata": {},
   "outputs": [
    {
     "name": "stdout",
     "output_type": "stream",
     "text": [
      "Fitting 5 folds for each of 9 candidates, totalling 45 fits\n",
      "[CV 1/5] END ...max_depth=125, n_estimators=250;, score=0.893 total time=   4.1s\n",
      "[CV 2/5] END ...max_depth=125, n_estimators=250;, score=0.898 total time=   4.2s\n",
      "[CV 3/5] END ...max_depth=125, n_estimators=250;, score=0.879 total time=   3.9s\n",
      "[CV 4/5] END ...max_depth=125, n_estimators=250;, score=0.893 total time=   3.6s\n",
      "[CV 5/5] END ...max_depth=125, n_estimators=250;, score=0.887 total time=   3.6s\n",
      "[CV 1/5] END ...max_depth=125, n_estimators=300;, score=0.892 total time=   4.3s\n",
      "[CV 2/5] END ...max_depth=125, n_estimators=300;, score=0.893 total time=   4.3s\n",
      "[CV 3/5] END ...max_depth=125, n_estimators=300;, score=0.876 total time=   4.2s\n",
      "[CV 4/5] END ...max_depth=125, n_estimators=300;, score=0.885 total time=   4.4s\n",
      "[CV 5/5] END ...max_depth=125, n_estimators=300;, score=0.886 total time=   4.4s\n",
      "[CV 1/5] END ...max_depth=125, n_estimators=350;, score=0.887 total time=   5.1s\n",
      "[CV 2/5] END ...max_depth=125, n_estimators=350;, score=0.892 total time=   5.1s\n",
      "[CV 3/5] END ...max_depth=125, n_estimators=350;, score=0.877 total time=   4.9s\n",
      "[CV 4/5] END ...max_depth=125, n_estimators=350;, score=0.888 total time=   5.0s\n",
      "[CV 5/5] END ...max_depth=125, n_estimators=350;, score=0.890 total time=   5.4s\n",
      "[CV 1/5] END ...max_depth=150, n_estimators=250;, score=0.891 total time=   3.6s\n",
      "[CV 2/5] END ...max_depth=150, n_estimators=250;, score=0.898 total time=   3.5s\n",
      "[CV 3/5] END ...max_depth=150, n_estimators=250;, score=0.879 total time=   3.5s\n",
      "[CV 4/5] END ...max_depth=150, n_estimators=250;, score=0.887 total time=   3.6s\n",
      "[CV 5/5] END ...max_depth=150, n_estimators=250;, score=0.885 total time=   3.5s\n",
      "[CV 1/5] END ...max_depth=150, n_estimators=300;, score=0.892 total time=   4.3s\n",
      "[CV 2/5] END ...max_depth=150, n_estimators=300;, score=0.894 total time=   4.1s\n",
      "[CV 3/5] END ...max_depth=150, n_estimators=300;, score=0.874 total time=   4.2s\n",
      "[CV 4/5] END ...max_depth=150, n_estimators=300;, score=0.891 total time=   4.3s\n",
      "[CV 5/5] END ...max_depth=150, n_estimators=300;, score=0.887 total time=   4.2s\n",
      "[CV 1/5] END ...max_depth=150, n_estimators=350;, score=0.891 total time=   4.9s\n",
      "[CV 2/5] END ...max_depth=150, n_estimators=350;, score=0.899 total time=   5.1s\n",
      "[CV 3/5] END ...max_depth=150, n_estimators=350;, score=0.880 total time=   4.9s\n",
      "[CV 4/5] END ...max_depth=150, n_estimators=350;, score=0.885 total time=   4.9s\n",
      "[CV 5/5] END ...max_depth=150, n_estimators=350;, score=0.884 total time=   5.0s\n",
      "[CV 1/5] END ...max_depth=175, n_estimators=250;, score=0.886 total time=   3.5s\n",
      "[CV 2/5] END ...max_depth=175, n_estimators=250;, score=0.898 total time=   3.5s\n",
      "[CV 3/5] END ...max_depth=175, n_estimators=250;, score=0.877 total time=   3.5s\n",
      "[CV 4/5] END ...max_depth=175, n_estimators=250;, score=0.887 total time=   3.7s\n",
      "[CV 5/5] END ...max_depth=175, n_estimators=250;, score=0.883 total time=   3.7s\n",
      "[CV 1/5] END ...max_depth=175, n_estimators=300;, score=0.888 total time=   4.3s\n",
      "[CV 2/5] END ...max_depth=175, n_estimators=300;, score=0.898 total time=   4.4s\n",
      "[CV 3/5] END ...max_depth=175, n_estimators=300;, score=0.878 total time=   4.6s\n",
      "[CV 4/5] END ...max_depth=175, n_estimators=300;, score=0.889 total time=   4.4s\n",
      "[CV 5/5] END ...max_depth=175, n_estimators=300;, score=0.885 total time=   4.2s\n",
      "[CV 1/5] END ...max_depth=175, n_estimators=350;, score=0.891 total time=   4.9s\n",
      "[CV 2/5] END ...max_depth=175, n_estimators=350;, score=0.896 total time=   5.2s\n",
      "[CV 3/5] END ...max_depth=175, n_estimators=350;, score=0.879 total time=   5.3s\n",
      "[CV 4/5] END ...max_depth=175, n_estimators=350;, score=0.890 total time=   5.1s\n",
      "[CV 5/5] END ...max_depth=175, n_estimators=350;, score=0.886 total time=   5.1s\n"
     ]
    },
    {
     "data": {
      "text/plain": [
       "GridSearchCV(estimator=RandomForestClassifier(),\n",
       "             param_grid={'max_depth': [125, 150, 175],\n",
       "                         'n_estimators': [250, 300, 350]},\n",
       "             verbose=3)"
      ]
     },
     "execution_count": 15,
     "metadata": {},
     "output_type": "execute_result"
    }
   ],
   "source": [
    "grid.fit(X_train_minmax, y_train)"
   ]
  },
  {
   "cell_type": "code",
   "execution_count": 16,
   "id": "d3575ce3",
   "metadata": {},
   "outputs": [
    {
     "name": "stdout",
     "output_type": "stream",
     "text": [
      "{'max_depth': 125, 'n_estimators': 250}\n",
      "0.8901210887034969\n"
     ]
    }
   ],
   "source": [
    "# print best params and score\n",
    "print(grid.best_params_)\n",
    "print(grid.best_score_)"
   ]
  },
  {
   "cell_type": "code",
   "execution_count": 17,
   "id": "e8b76f89",
   "metadata": {},
   "outputs": [
    {
     "data": {
      "text/plain": [
       "1.0"
      ]
     },
     "execution_count": 17,
     "metadata": {},
     "output_type": "execute_result"
    }
   ],
   "source": [
    "# print training score\n",
    "grid.score(X_train_minmax, y_train)"
   ]
  },
  {
   "cell_type": "code",
   "execution_count": 18,
   "id": "cd6f3d9c",
   "metadata": {},
   "outputs": [
    {
     "data": {
      "text/plain": [
       "0.8980010251153254"
      ]
     },
     "execution_count": 18,
     "metadata": {},
     "output_type": "execute_result"
    }
   ],
   "source": [
    "# print testing score\n",
    "grid.score(X_test_minmax,y_test)"
   ]
  },
  {
   "cell_type": "code",
   "execution_count": 19,
   "id": "db4861ff",
   "metadata": {},
   "outputs": [
    {
     "name": "stdout",
     "output_type": "stream",
     "text": [
      "['CONFIRMED' 'CONFIRMED' 'FALSE POSITIVE' ... 'FALSE POSITIVE' 'CANDIDATE'\n",
      " 'FALSE POSITIVE']\n"
     ]
    }
   ],
   "source": [
    "# make predictions\n",
    "predictions = grid.predict(X_test_minmax)\n",
    "print(predictions)"
   ]
  },
  {
   "cell_type": "code",
   "execution_count": 20,
   "id": "faca3e6f",
   "metadata": {},
   "outputs": [
    {
     "name": "stdout",
     "output_type": "stream",
     "text": [
      "                precision    recall  f1-score   support\n",
      "\n",
      "     CANDIDATE       0.83      0.73      0.78       446\n",
      "     CONFIRMED       0.81      0.87      0.84       572\n",
      "FALSE POSITIVE       0.98      1.00      0.99       933\n",
      "\n",
      "      accuracy                           0.90      1951\n",
      "     macro avg       0.87      0.86      0.87      1951\n",
      "  weighted avg       0.90      0.90      0.90      1951\n",
      "\n"
     ]
    }
   ],
   "source": [
    "# print classification\n",
    "from sklearn.metrics import classification_report\n",
    "print(classification_report(y_test,predictions))"
   ]
  },
  {
   "cell_type": "code",
   "execution_count": 21,
   "id": "a2758bb3",
   "metadata": {},
   "outputs": [
    {
     "data": {
      "text/plain": [
       "['rf.sav']"
      ]
     },
     "execution_count": 21,
     "metadata": {},
     "output_type": "execute_result"
    }
   ],
   "source": [
    "# save the model\n",
    "import joblib\n",
    "filename = 'rf.sav'\n",
    "joblib.dump(rf, filename)"
   ]
  },
  {
   "cell_type": "code",
   "execution_count": null,
   "id": "5029ef38",
   "metadata": {},
   "outputs": [],
   "source": []
  }
 ],
 "metadata": {
  "kernelspec": {
   "display_name": "Python 3",
   "language": "python",
   "name": "python3"
  },
  "language_info": {
   "codemirror_mode": {
    "name": "ipython",
    "version": 3
   },
   "file_extension": ".py",
   "mimetype": "text/x-python",
   "name": "python",
   "nbconvert_exporter": "python",
   "pygments_lexer": "ipython3",
   "version": "3.8.10"
  }
 },
 "nbformat": 4,
 "nbformat_minor": 5
}
