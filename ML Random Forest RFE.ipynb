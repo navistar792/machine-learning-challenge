{
 "cells": [
  {
   "cell_type": "code",
   "execution_count": 1,
   "id": "f25855aa",
   "metadata": {},
   "outputs": [],
   "source": [
    "# import warnings\n",
    "# warnings.simplefilter('ignore')\n",
    "\n",
    "# %matplotlib inline\n",
    "import matplotlib.pyplot as plt\n",
    "import numpy as np\n",
    "import pandas as pd"
   ]
  },
  {
   "cell_type": "code",
   "execution_count": 2,
   "id": "a8feb8bc",
   "metadata": {},
   "outputs": [
    {
     "data": {
      "text/html": [
       "<div>\n",
       "<style scoped>\n",
       "    .dataframe tbody tr th:only-of-type {\n",
       "        vertical-align: middle;\n",
       "    }\n",
       "\n",
       "    .dataframe tbody tr th {\n",
       "        vertical-align: top;\n",
       "    }\n",
       "\n",
       "    .dataframe thead th {\n",
       "        text-align: right;\n",
       "    }\n",
       "</style>\n",
       "<table border=\"1\" class=\"dataframe\">\n",
       "  <thead>\n",
       "    <tr style=\"text-align: right;\">\n",
       "      <th></th>\n",
       "      <th>koi_disposition</th>\n",
       "      <th>koi_score</th>\n",
       "      <th>koi_fpflag_nt</th>\n",
       "      <th>koi_fpflag_ss</th>\n",
       "      <th>koi_fpflag_co</th>\n",
       "      <th>koi_fpflag_ec</th>\n",
       "      <th>koi_period</th>\n",
       "      <th>koi_period_err1</th>\n",
       "      <th>koi_period_err2</th>\n",
       "      <th>koi_time0bk</th>\n",
       "      <th>...</th>\n",
       "      <th>koi_steff_err2</th>\n",
       "      <th>koi_slogg</th>\n",
       "      <th>koi_slogg_err1</th>\n",
       "      <th>koi_slogg_err2</th>\n",
       "      <th>koi_srad</th>\n",
       "      <th>koi_srad_err1</th>\n",
       "      <th>koi_srad_err2</th>\n",
       "      <th>ra</th>\n",
       "      <th>dec</th>\n",
       "      <th>koi_kepmag</th>\n",
       "    </tr>\n",
       "  </thead>\n",
       "  <tbody>\n",
       "    <tr>\n",
       "      <th>0</th>\n",
       "      <td>CONFIRMED</td>\n",
       "      <td>1.000</td>\n",
       "      <td>0</td>\n",
       "      <td>0</td>\n",
       "      <td>0</td>\n",
       "      <td>0</td>\n",
       "      <td>9.488036</td>\n",
       "      <td>2.775000e-05</td>\n",
       "      <td>-2.775000e-05</td>\n",
       "      <td>170.538750</td>\n",
       "      <td>...</td>\n",
       "      <td>-81.0</td>\n",
       "      <td>4.467</td>\n",
       "      <td>0.064</td>\n",
       "      <td>-0.096</td>\n",
       "      <td>0.927</td>\n",
       "      <td>0.105</td>\n",
       "      <td>-0.061</td>\n",
       "      <td>291.93423</td>\n",
       "      <td>48.141651</td>\n",
       "      <td>15.347</td>\n",
       "    </tr>\n",
       "    <tr>\n",
       "      <th>1</th>\n",
       "      <td>CONFIRMED</td>\n",
       "      <td>0.969</td>\n",
       "      <td>0</td>\n",
       "      <td>0</td>\n",
       "      <td>0</td>\n",
       "      <td>0</td>\n",
       "      <td>54.418383</td>\n",
       "      <td>2.479000e-04</td>\n",
       "      <td>-2.479000e-04</td>\n",
       "      <td>162.513840</td>\n",
       "      <td>...</td>\n",
       "      <td>-81.0</td>\n",
       "      <td>4.467</td>\n",
       "      <td>0.064</td>\n",
       "      <td>-0.096</td>\n",
       "      <td>0.927</td>\n",
       "      <td>0.105</td>\n",
       "      <td>-0.061</td>\n",
       "      <td>291.93423</td>\n",
       "      <td>48.141651</td>\n",
       "      <td>15.347</td>\n",
       "    </tr>\n",
       "    <tr>\n",
       "      <th>2</th>\n",
       "      <td>FALSE POSITIVE</td>\n",
       "      <td>0.000</td>\n",
       "      <td>0</td>\n",
       "      <td>1</td>\n",
       "      <td>0</td>\n",
       "      <td>0</td>\n",
       "      <td>19.899140</td>\n",
       "      <td>1.494000e-05</td>\n",
       "      <td>-1.494000e-05</td>\n",
       "      <td>175.850252</td>\n",
       "      <td>...</td>\n",
       "      <td>-176.0</td>\n",
       "      <td>4.544</td>\n",
       "      <td>0.044</td>\n",
       "      <td>-0.176</td>\n",
       "      <td>0.868</td>\n",
       "      <td>0.233</td>\n",
       "      <td>-0.078</td>\n",
       "      <td>297.00482</td>\n",
       "      <td>48.134129</td>\n",
       "      <td>15.436</td>\n",
       "    </tr>\n",
       "    <tr>\n",
       "      <th>3</th>\n",
       "      <td>FALSE POSITIVE</td>\n",
       "      <td>0.000</td>\n",
       "      <td>0</td>\n",
       "      <td>1</td>\n",
       "      <td>0</td>\n",
       "      <td>0</td>\n",
       "      <td>1.736952</td>\n",
       "      <td>2.630000e-07</td>\n",
       "      <td>-2.630000e-07</td>\n",
       "      <td>170.307565</td>\n",
       "      <td>...</td>\n",
       "      <td>-174.0</td>\n",
       "      <td>4.564</td>\n",
       "      <td>0.053</td>\n",
       "      <td>-0.168</td>\n",
       "      <td>0.791</td>\n",
       "      <td>0.201</td>\n",
       "      <td>-0.067</td>\n",
       "      <td>285.53461</td>\n",
       "      <td>48.285210</td>\n",
       "      <td>15.597</td>\n",
       "    </tr>\n",
       "    <tr>\n",
       "      <th>4</th>\n",
       "      <td>CONFIRMED</td>\n",
       "      <td>1.000</td>\n",
       "      <td>0</td>\n",
       "      <td>0</td>\n",
       "      <td>0</td>\n",
       "      <td>0</td>\n",
       "      <td>2.525592</td>\n",
       "      <td>3.761000e-06</td>\n",
       "      <td>-3.761000e-06</td>\n",
       "      <td>171.595550</td>\n",
       "      <td>...</td>\n",
       "      <td>-211.0</td>\n",
       "      <td>4.438</td>\n",
       "      <td>0.070</td>\n",
       "      <td>-0.210</td>\n",
       "      <td>1.046</td>\n",
       "      <td>0.334</td>\n",
       "      <td>-0.133</td>\n",
       "      <td>288.75488</td>\n",
       "      <td>48.226200</td>\n",
       "      <td>15.509</td>\n",
       "    </tr>\n",
       "  </tbody>\n",
       "</table>\n",
       "<p>5 rows × 42 columns</p>\n",
       "</div>"
      ],
      "text/plain": [
       "  koi_disposition  koi_score  koi_fpflag_nt  koi_fpflag_ss  koi_fpflag_co  \\\n",
       "0       CONFIRMED      1.000              0              0              0   \n",
       "1       CONFIRMED      0.969              0              0              0   \n",
       "2  FALSE POSITIVE      0.000              0              1              0   \n",
       "3  FALSE POSITIVE      0.000              0              1              0   \n",
       "4       CONFIRMED      1.000              0              0              0   \n",
       "\n",
       "   koi_fpflag_ec  koi_period  koi_period_err1  koi_period_err2  koi_time0bk  \\\n",
       "0              0    9.488036     2.775000e-05    -2.775000e-05   170.538750   \n",
       "1              0   54.418383     2.479000e-04    -2.479000e-04   162.513840   \n",
       "2              0   19.899140     1.494000e-05    -1.494000e-05   175.850252   \n",
       "3              0    1.736952     2.630000e-07    -2.630000e-07   170.307565   \n",
       "4              0    2.525592     3.761000e-06    -3.761000e-06   171.595550   \n",
       "\n",
       "   ...  koi_steff_err2  koi_slogg  koi_slogg_err1  koi_slogg_err2  koi_srad  \\\n",
       "0  ...           -81.0      4.467           0.064          -0.096     0.927   \n",
       "1  ...           -81.0      4.467           0.064          -0.096     0.927   \n",
       "2  ...          -176.0      4.544           0.044          -0.176     0.868   \n",
       "3  ...          -174.0      4.564           0.053          -0.168     0.791   \n",
       "4  ...          -211.0      4.438           0.070          -0.210     1.046   \n",
       "\n",
       "   koi_srad_err1  koi_srad_err2         ra        dec  koi_kepmag  \n",
       "0          0.105         -0.061  291.93423  48.141651      15.347  \n",
       "1          0.105         -0.061  291.93423  48.141651      15.347  \n",
       "2          0.233         -0.078  297.00482  48.134129      15.436  \n",
       "3          0.201         -0.067  285.53461  48.285210      15.597  \n",
       "4          0.334         -0.133  288.75488  48.226200      15.509  \n",
       "\n",
       "[5 rows x 42 columns]"
      ]
     },
     "execution_count": 2,
     "metadata": {},
     "output_type": "execute_result"
    }
   ],
   "source": [
    "# Read the csv file into a pandas DataFrame\n",
    "\n",
    "exo = pd.read_csv('exo_clean.csv')\n",
    "exo.head()"
   ]
  },
  {
   "cell_type": "code",
   "execution_count": 3,
   "id": "7d73c903",
   "metadata": {},
   "outputs": [
    {
     "data": {
      "text/plain": [
       "Index(['koi_disposition', 'koi_score', 'koi_fpflag_nt', 'koi_fpflag_ss',\n",
       "       'koi_fpflag_co', 'koi_fpflag_ec', 'koi_period', 'koi_period_err1',\n",
       "       'koi_period_err2', 'koi_time0bk', 'koi_time0bk_err1',\n",
       "       'koi_time0bk_err2', 'koi_impact', 'koi_impact_err1', 'koi_impact_err2',\n",
       "       'koi_duration', 'koi_duration_err1', 'koi_duration_err2', 'koi_depth',\n",
       "       'koi_depth_err1', 'koi_depth_err2', 'koi_prad', 'koi_prad_err1',\n",
       "       'koi_prad_err2', 'koi_teq', 'koi_insol', 'koi_insol_err1',\n",
       "       'koi_insol_err2', 'koi_model_snr', 'koi_tce_plnt_num', 'koi_steff',\n",
       "       'koi_steff_err1', 'koi_steff_err2', 'koi_slogg', 'koi_slogg_err1',\n",
       "       'koi_slogg_err2', 'koi_srad', 'koi_srad_err1', 'koi_srad_err2', 'ra',\n",
       "       'dec', 'koi_kepmag'],\n",
       "      dtype='object')"
      ]
     },
     "execution_count": 3,
     "metadata": {},
     "output_type": "execute_result"
    }
   ],
   "source": [
    "exo.columns\n"
   ]
  },
  {
   "cell_type": "code",
   "execution_count": 4,
   "id": "995fdd7d",
   "metadata": {},
   "outputs": [
    {
     "data": {
      "text/html": [
       "<div>\n",
       "<style scoped>\n",
       "    .dataframe tbody tr th:only-of-type {\n",
       "        vertical-align: middle;\n",
       "    }\n",
       "\n",
       "    .dataframe tbody tr th {\n",
       "        vertical-align: top;\n",
       "    }\n",
       "\n",
       "    .dataframe thead th {\n",
       "        text-align: right;\n",
       "    }\n",
       "</style>\n",
       "<table border=\"1\" class=\"dataframe\">\n",
       "  <thead>\n",
       "    <tr style=\"text-align: right;\">\n",
       "      <th></th>\n",
       "      <th>koi_score</th>\n",
       "      <th>koi_fpflag_nt</th>\n",
       "      <th>koi_fpflag_ss</th>\n",
       "      <th>koi_fpflag_co</th>\n",
       "      <th>koi_fpflag_ec</th>\n",
       "      <th>koi_period</th>\n",
       "      <th>koi_period_err1</th>\n",
       "      <th>koi_period_err2</th>\n",
       "      <th>koi_time0bk</th>\n",
       "      <th>koi_time0bk_err1</th>\n",
       "      <th>...</th>\n",
       "      <th>koi_steff_err2</th>\n",
       "      <th>koi_slogg</th>\n",
       "      <th>koi_slogg_err1</th>\n",
       "      <th>koi_slogg_err2</th>\n",
       "      <th>koi_srad</th>\n",
       "      <th>koi_srad_err1</th>\n",
       "      <th>koi_srad_err2</th>\n",
       "      <th>ra</th>\n",
       "      <th>dec</th>\n",
       "      <th>koi_kepmag</th>\n",
       "    </tr>\n",
       "  </thead>\n",
       "  <tbody>\n",
       "    <tr>\n",
       "      <th>0</th>\n",
       "      <td>1.000</td>\n",
       "      <td>0</td>\n",
       "      <td>0</td>\n",
       "      <td>0</td>\n",
       "      <td>0</td>\n",
       "      <td>9.488036</td>\n",
       "      <td>2.775000e-05</td>\n",
       "      <td>-2.775000e-05</td>\n",
       "      <td>170.538750</td>\n",
       "      <td>0.002160</td>\n",
       "      <td>...</td>\n",
       "      <td>-81.0</td>\n",
       "      <td>4.467</td>\n",
       "      <td>0.064</td>\n",
       "      <td>-0.096</td>\n",
       "      <td>0.927</td>\n",
       "      <td>0.105</td>\n",
       "      <td>-0.061</td>\n",
       "      <td>291.93423</td>\n",
       "      <td>48.141651</td>\n",
       "      <td>15.347</td>\n",
       "    </tr>\n",
       "    <tr>\n",
       "      <th>1</th>\n",
       "      <td>0.969</td>\n",
       "      <td>0</td>\n",
       "      <td>0</td>\n",
       "      <td>0</td>\n",
       "      <td>0</td>\n",
       "      <td>54.418383</td>\n",
       "      <td>2.479000e-04</td>\n",
       "      <td>-2.479000e-04</td>\n",
       "      <td>162.513840</td>\n",
       "      <td>0.003520</td>\n",
       "      <td>...</td>\n",
       "      <td>-81.0</td>\n",
       "      <td>4.467</td>\n",
       "      <td>0.064</td>\n",
       "      <td>-0.096</td>\n",
       "      <td>0.927</td>\n",
       "      <td>0.105</td>\n",
       "      <td>-0.061</td>\n",
       "      <td>291.93423</td>\n",
       "      <td>48.141651</td>\n",
       "      <td>15.347</td>\n",
       "    </tr>\n",
       "    <tr>\n",
       "      <th>2</th>\n",
       "      <td>0.000</td>\n",
       "      <td>0</td>\n",
       "      <td>1</td>\n",
       "      <td>0</td>\n",
       "      <td>0</td>\n",
       "      <td>19.899140</td>\n",
       "      <td>1.494000e-05</td>\n",
       "      <td>-1.494000e-05</td>\n",
       "      <td>175.850252</td>\n",
       "      <td>0.000581</td>\n",
       "      <td>...</td>\n",
       "      <td>-176.0</td>\n",
       "      <td>4.544</td>\n",
       "      <td>0.044</td>\n",
       "      <td>-0.176</td>\n",
       "      <td>0.868</td>\n",
       "      <td>0.233</td>\n",
       "      <td>-0.078</td>\n",
       "      <td>297.00482</td>\n",
       "      <td>48.134129</td>\n",
       "      <td>15.436</td>\n",
       "    </tr>\n",
       "    <tr>\n",
       "      <th>3</th>\n",
       "      <td>0.000</td>\n",
       "      <td>0</td>\n",
       "      <td>1</td>\n",
       "      <td>0</td>\n",
       "      <td>0</td>\n",
       "      <td>1.736952</td>\n",
       "      <td>2.630000e-07</td>\n",
       "      <td>-2.630000e-07</td>\n",
       "      <td>170.307565</td>\n",
       "      <td>0.000115</td>\n",
       "      <td>...</td>\n",
       "      <td>-174.0</td>\n",
       "      <td>4.564</td>\n",
       "      <td>0.053</td>\n",
       "      <td>-0.168</td>\n",
       "      <td>0.791</td>\n",
       "      <td>0.201</td>\n",
       "      <td>-0.067</td>\n",
       "      <td>285.53461</td>\n",
       "      <td>48.285210</td>\n",
       "      <td>15.597</td>\n",
       "    </tr>\n",
       "    <tr>\n",
       "      <th>4</th>\n",
       "      <td>1.000</td>\n",
       "      <td>0</td>\n",
       "      <td>0</td>\n",
       "      <td>0</td>\n",
       "      <td>0</td>\n",
       "      <td>2.525592</td>\n",
       "      <td>3.761000e-06</td>\n",
       "      <td>-3.761000e-06</td>\n",
       "      <td>171.595550</td>\n",
       "      <td>0.001130</td>\n",
       "      <td>...</td>\n",
       "      <td>-211.0</td>\n",
       "      <td>4.438</td>\n",
       "      <td>0.070</td>\n",
       "      <td>-0.210</td>\n",
       "      <td>1.046</td>\n",
       "      <td>0.334</td>\n",
       "      <td>-0.133</td>\n",
       "      <td>288.75488</td>\n",
       "      <td>48.226200</td>\n",
       "      <td>15.509</td>\n",
       "    </tr>\n",
       "  </tbody>\n",
       "</table>\n",
       "<p>5 rows × 41 columns</p>\n",
       "</div>"
      ],
      "text/plain": [
       "   koi_score  koi_fpflag_nt  koi_fpflag_ss  koi_fpflag_co  koi_fpflag_ec  \\\n",
       "0      1.000              0              0              0              0   \n",
       "1      0.969              0              0              0              0   \n",
       "2      0.000              0              1              0              0   \n",
       "3      0.000              0              1              0              0   \n",
       "4      1.000              0              0              0              0   \n",
       "\n",
       "   koi_period  koi_period_err1  koi_period_err2  koi_time0bk  \\\n",
       "0    9.488036     2.775000e-05    -2.775000e-05   170.538750   \n",
       "1   54.418383     2.479000e-04    -2.479000e-04   162.513840   \n",
       "2   19.899140     1.494000e-05    -1.494000e-05   175.850252   \n",
       "3    1.736952     2.630000e-07    -2.630000e-07   170.307565   \n",
       "4    2.525592     3.761000e-06    -3.761000e-06   171.595550   \n",
       "\n",
       "   koi_time0bk_err1  ...  koi_steff_err2  koi_slogg  koi_slogg_err1  \\\n",
       "0          0.002160  ...           -81.0      4.467           0.064   \n",
       "1          0.003520  ...           -81.0      4.467           0.064   \n",
       "2          0.000581  ...          -176.0      4.544           0.044   \n",
       "3          0.000115  ...          -174.0      4.564           0.053   \n",
       "4          0.001130  ...          -211.0      4.438           0.070   \n",
       "\n",
       "   koi_slogg_err2  koi_srad  koi_srad_err1  koi_srad_err2         ra  \\\n",
       "0          -0.096     0.927          0.105         -0.061  291.93423   \n",
       "1          -0.096     0.927          0.105         -0.061  291.93423   \n",
       "2          -0.176     0.868          0.233         -0.078  297.00482   \n",
       "3          -0.168     0.791          0.201         -0.067  285.53461   \n",
       "4          -0.210     1.046          0.334         -0.133  288.75488   \n",
       "\n",
       "         dec  koi_kepmag  \n",
       "0  48.141651      15.347  \n",
       "1  48.141651      15.347  \n",
       "2  48.134129      15.436  \n",
       "3  48.285210      15.597  \n",
       "4  48.226200      15.509  \n",
       "\n",
       "[5 rows x 41 columns]"
      ]
     },
     "execution_count": 4,
     "metadata": {},
     "output_type": "execute_result"
    }
   ],
   "source": [
    "target = exo['koi_disposition']\n",
    "data = exo.drop(['koi_disposition'], axis=1)\n",
    "feature_names = data.columns\n",
    "data.head()"
   ]
  },
  {
   "cell_type": "code",
   "execution_count": 5,
   "id": "1ab3784c",
   "metadata": {},
   "outputs": [],
   "source": [
    "# create train test split\n",
    "from sklearn.model_selection import train_test_split\n",
    "X_train, X_test, y_train, y_test = train_test_split(data, target, random_state=42)"
   ]
  },
  {
   "cell_type": "code",
   "execution_count": 6,
   "id": "7b92580a",
   "metadata": {},
   "outputs": [
    {
     "data": {
      "text/html": [
       "<div>\n",
       "<style scoped>\n",
       "    .dataframe tbody tr th:only-of-type {\n",
       "        vertical-align: middle;\n",
       "    }\n",
       "\n",
       "    .dataframe tbody tr th {\n",
       "        vertical-align: top;\n",
       "    }\n",
       "\n",
       "    .dataframe thead th {\n",
       "        text-align: right;\n",
       "    }\n",
       "</style>\n",
       "<table border=\"1\" class=\"dataframe\">\n",
       "  <thead>\n",
       "    <tr style=\"text-align: right;\">\n",
       "      <th></th>\n",
       "      <th>koi_score</th>\n",
       "      <th>koi_fpflag_nt</th>\n",
       "      <th>koi_fpflag_ss</th>\n",
       "      <th>koi_fpflag_co</th>\n",
       "      <th>koi_fpflag_ec</th>\n",
       "      <th>koi_period</th>\n",
       "      <th>koi_period_err1</th>\n",
       "      <th>koi_period_err2</th>\n",
       "      <th>koi_time0bk</th>\n",
       "      <th>koi_time0bk_err1</th>\n",
       "      <th>...</th>\n",
       "      <th>koi_steff_err2</th>\n",
       "      <th>koi_slogg</th>\n",
       "      <th>koi_slogg_err1</th>\n",
       "      <th>koi_slogg_err2</th>\n",
       "      <th>koi_srad</th>\n",
       "      <th>koi_srad_err1</th>\n",
       "      <th>koi_srad_err2</th>\n",
       "      <th>ra</th>\n",
       "      <th>dec</th>\n",
       "      <th>koi_kepmag</th>\n",
       "    </tr>\n",
       "  </thead>\n",
       "  <tbody>\n",
       "    <tr>\n",
       "      <th>6160</th>\n",
       "      <td>0.994</td>\n",
       "      <td>0</td>\n",
       "      <td>0</td>\n",
       "      <td>0</td>\n",
       "      <td>0</td>\n",
       "      <td>8.609654</td>\n",
       "      <td>0.000070</td>\n",
       "      <td>-0.000070</td>\n",
       "      <td>134.38829</td>\n",
       "      <td>0.00653</td>\n",
       "      <td>...</td>\n",
       "      <td>-171.0</td>\n",
       "      <td>3.447</td>\n",
       "      <td>0.884</td>\n",
       "      <td>-0.156</td>\n",
       "      <td>4.233</td>\n",
       "      <td>0.785</td>\n",
       "      <td>-3.139</td>\n",
       "      <td>291.02719</td>\n",
       "      <td>37.613911</td>\n",
       "      <td>12.765</td>\n",
       "    </tr>\n",
       "    <tr>\n",
       "      <th>2164</th>\n",
       "      <td>0.717</td>\n",
       "      <td>0</td>\n",
       "      <td>0</td>\n",
       "      <td>0</td>\n",
       "      <td>0</td>\n",
       "      <td>88.071277</td>\n",
       "      <td>0.000850</td>\n",
       "      <td>-0.000850</td>\n",
       "      <td>214.51304</td>\n",
       "      <td>0.00740</td>\n",
       "      <td>...</td>\n",
       "      <td>-79.0</td>\n",
       "      <td>4.506</td>\n",
       "      <td>0.072</td>\n",
       "      <td>-0.022</td>\n",
       "      <td>0.819</td>\n",
       "      <td>0.032</td>\n",
       "      <td>-0.055</td>\n",
       "      <td>292.30743</td>\n",
       "      <td>46.626640</td>\n",
       "      <td>15.639</td>\n",
       "    </tr>\n",
       "    <tr>\n",
       "      <th>4626</th>\n",
       "      <td>0.999</td>\n",
       "      <td>0</td>\n",
       "      <td>0</td>\n",
       "      <td>0</td>\n",
       "      <td>0</td>\n",
       "      <td>5.709408</td>\n",
       "      <td>0.000018</td>\n",
       "      <td>-0.000018</td>\n",
       "      <td>137.12208</td>\n",
       "      <td>0.00256</td>\n",
       "      <td>...</td>\n",
       "      <td>-144.0</td>\n",
       "      <td>4.682</td>\n",
       "      <td>0.045</td>\n",
       "      <td>-0.036</td>\n",
       "      <td>0.572</td>\n",
       "      <td>0.049</td>\n",
       "      <td>-0.049</td>\n",
       "      <td>285.60254</td>\n",
       "      <td>50.112041</td>\n",
       "      <td>14.265</td>\n",
       "    </tr>\n",
       "    <tr>\n",
       "      <th>6074</th>\n",
       "      <td>0.000</td>\n",
       "      <td>1</td>\n",
       "      <td>0</td>\n",
       "      <td>0</td>\n",
       "      <td>0</td>\n",
       "      <td>659.290700</td>\n",
       "      <td>0.011970</td>\n",
       "      <td>-0.011970</td>\n",
       "      <td>254.33000</td>\n",
       "      <td>0.01710</td>\n",
       "      <td>...</td>\n",
       "      <td>-83.0</td>\n",
       "      <td>4.050</td>\n",
       "      <td>0.018</td>\n",
       "      <td>-0.018</td>\n",
       "      <td>1.837</td>\n",
       "      <td>0.124</td>\n",
       "      <td>-0.124</td>\n",
       "      <td>294.37708</td>\n",
       "      <td>47.289928</td>\n",
       "      <td>10.629</td>\n",
       "    </tr>\n",
       "    <tr>\n",
       "      <th>4663</th>\n",
       "      <td>0.905</td>\n",
       "      <td>0</td>\n",
       "      <td>0</td>\n",
       "      <td>0</td>\n",
       "      <td>0</td>\n",
       "      <td>6.685438</td>\n",
       "      <td>0.000183</td>\n",
       "      <td>-0.000183</td>\n",
       "      <td>132.31840</td>\n",
       "      <td>0.01420</td>\n",
       "      <td>...</td>\n",
       "      <td>-78.0</td>\n",
       "      <td>4.326</td>\n",
       "      <td>0.110</td>\n",
       "      <td>-0.110</td>\n",
       "      <td>1.159</td>\n",
       "      <td>0.185</td>\n",
       "      <td>-0.151</td>\n",
       "      <td>295.55374</td>\n",
       "      <td>46.029110</td>\n",
       "      <td>15.135</td>\n",
       "    </tr>\n",
       "  </tbody>\n",
       "</table>\n",
       "<p>5 rows × 41 columns</p>\n",
       "</div>"
      ],
      "text/plain": [
       "      koi_score  koi_fpflag_nt  koi_fpflag_ss  koi_fpflag_co  koi_fpflag_ec  \\\n",
       "6160      0.994              0              0              0              0   \n",
       "2164      0.717              0              0              0              0   \n",
       "4626      0.999              0              0              0              0   \n",
       "6074      0.000              1              0              0              0   \n",
       "4663      0.905              0              0              0              0   \n",
       "\n",
       "      koi_period  koi_period_err1  koi_period_err2  koi_time0bk  \\\n",
       "6160    8.609654         0.000070        -0.000070    134.38829   \n",
       "2164   88.071277         0.000850        -0.000850    214.51304   \n",
       "4626    5.709408         0.000018        -0.000018    137.12208   \n",
       "6074  659.290700         0.011970        -0.011970    254.33000   \n",
       "4663    6.685438         0.000183        -0.000183    132.31840   \n",
       "\n",
       "      koi_time0bk_err1  ...  koi_steff_err2  koi_slogg  koi_slogg_err1  \\\n",
       "6160           0.00653  ...          -171.0      3.447           0.884   \n",
       "2164           0.00740  ...           -79.0      4.506           0.072   \n",
       "4626           0.00256  ...          -144.0      4.682           0.045   \n",
       "6074           0.01710  ...           -83.0      4.050           0.018   \n",
       "4663           0.01420  ...           -78.0      4.326           0.110   \n",
       "\n",
       "      koi_slogg_err2  koi_srad  koi_srad_err1  koi_srad_err2         ra  \\\n",
       "6160          -0.156     4.233          0.785         -3.139  291.02719   \n",
       "2164          -0.022     0.819          0.032         -0.055  292.30743   \n",
       "4626          -0.036     0.572          0.049         -0.049  285.60254   \n",
       "6074          -0.018     1.837          0.124         -0.124  294.37708   \n",
       "4663          -0.110     1.159          0.185         -0.151  295.55374   \n",
       "\n",
       "            dec  koi_kepmag  \n",
       "6160  37.613911      12.765  \n",
       "2164  46.626640      15.639  \n",
       "4626  50.112041      14.265  \n",
       "6074  47.289928      10.629  \n",
       "4663  46.029110      15.135  \n",
       "\n",
       "[5 rows x 41 columns]"
      ]
     },
     "execution_count": 6,
     "metadata": {},
     "output_type": "execute_result"
    }
   ],
   "source": [
    "X_train.head()"
   ]
  },
  {
   "cell_type": "code",
   "execution_count": 7,
   "id": "83ebdc20",
   "metadata": {},
   "outputs": [
    {
     "data": {
      "text/plain": [
       "6160         CANDIDATE\n",
       "2164         CANDIDATE\n",
       "4626         CONFIRMED\n",
       "6074    FALSE POSITIVE\n",
       "4663         CANDIDATE\n",
       "Name: koi_disposition, dtype: object"
      ]
     },
     "execution_count": 7,
     "metadata": {},
     "output_type": "execute_result"
    }
   ],
   "source": [
    "y_train.head()"
   ]
  },
  {
   "cell_type": "markdown",
   "id": "2530446b",
   "metadata": {},
   "source": [
    "### Pre processing"
   ]
  },
  {
   "cell_type": "code",
   "execution_count": 8,
   "id": "357228af",
   "metadata": {},
   "outputs": [],
   "source": [
    "from sklearn.preprocessing import MinMaxScaler\n",
    "X_minmax = MinMaxScaler().fit(X_train)\n",
    "X_train_minmax = X_minmax.transform(X_train)\n",
    "X_test_minmax = X_minmax.transform(X_test)"
   ]
  },
  {
   "cell_type": "code",
   "execution_count": 9,
   "id": "07c56a68",
   "metadata": {},
   "outputs": [
    {
     "name": "stdout",
     "output_type": "stream",
     "text": [
      "MinMaxScaler()\n",
      "[[0.994      0.         0.         ... 0.51092035 0.06577539 0.5249389 ]\n",
      " [0.717      0.         0.         ... 0.56947323 0.63769881 0.78510003]\n",
      " [0.999      0.         0.         ... 0.2628193  0.85887294 0.66072237]\n",
      " ...\n",
      " [1.         0.         0.         ... 0.3723727  0.91168762 0.58794243]\n",
      " [0.912      0.         0.         ... 0.81595249 0.61472975 0.72589843]\n",
      " [0.05       1.         0.         ... 0.59970098 0.27774358 0.74364081]]\n",
      "[[0.999      0.         0.         ... 0.66362782 0.84637293 0.81153254]\n",
      " [0.997      0.         0.         ... 0.40754724 0.62296282 0.78872092]\n",
      " [0.         0.         0.         ... 0.36489169 0.16733163 0.61473703]\n",
      " ...\n",
      " [0.146      1.         0.         ... 0.68831833 0.43179568 0.81117045]\n",
      " [0.943      0.         0.         ... 0.29930692 0.75797076 0.7740563 ]\n",
      " [0.         0.         0.         ... 0.56064804 0.70768092 0.78238436]]\n"
     ]
    }
   ],
   "source": [
    "print(X_minmax)\n",
    "print(X_train_minmax)\n",
    "print(X_test_minmax)"
   ]
  },
  {
   "cell_type": "markdown",
   "id": "9eb687ba",
   "metadata": {},
   "source": [
    "### Train the model (Random Forest)"
   ]
  },
  {
   "cell_type": "code",
   "execution_count": 10,
   "id": "f6c97d51",
   "metadata": {},
   "outputs": [
    {
     "data": {
      "text/plain": [
       "RandomForestClassifier()"
      ]
     },
     "execution_count": 10,
     "metadata": {},
     "output_type": "execute_result"
    }
   ],
   "source": [
    "from sklearn.ensemble import RandomForestClassifier\n",
    "rf = RandomForestClassifier()\n",
    "rf.fit(X_train_minmax, y_train)"
   ]
  },
  {
   "cell_type": "code",
   "execution_count": 11,
   "id": "217aa558",
   "metadata": {},
   "outputs": [
    {
     "name": "stdout",
     "output_type": "stream",
     "text": [
      "Training Data Score: 1.0\n",
      "Testing Data Score: 0.8959507944643772\n"
     ]
    }
   ],
   "source": [
    "print(f\"Training Data Score: {rf.score(X_train_minmax, y_train)}\")\n",
    "print(f\"Testing Data Score: {rf.score(X_test_minmax, y_test)}\")"
   ]
  },
  {
   "cell_type": "code",
   "execution_count": 12,
   "id": "1080f3c4",
   "metadata": {},
   "outputs": [
    {
     "data": {
      "text/plain": [
       "[(0.2472040100023578, 'koi_score'),\n",
       " (0.06197643147632354, 'koi_fpflag_co'),\n",
       " (0.053695968848725316, 'koi_model_snr'),\n",
       " (0.04430699217371907, 'koi_fpflag_ss'),\n",
       " (0.04335991230596897, 'koi_prad'),\n",
       " (0.04039277347021081, 'koi_prad_err2'),\n",
       " (0.0303853749931944, 'koi_fpflag_nt'),\n",
       " (0.02956530131727548, 'koi_prad_err1'),\n",
       " (0.02804583152064594, 'koi_duration_err2'),\n",
       " (0.024959280834339157, 'koi_duration_err1'),\n",
       " (0.024154688884248, 'koi_steff_err1'),\n",
       " (0.023809701353960107, 'koi_fpflag_ec'),\n",
       " (0.022577574153048074, 'koi_steff_err2'),\n",
       " (0.01990950675283802, 'koi_duration'),\n",
       " (0.019345284753244714, 'koi_time0bk_err2'),\n",
       " (0.017551853256118043, 'koi_period'),\n",
       " (0.01750890081641286, 'koi_depth'),\n",
       " (0.0174833741515704, 'koi_impact'),\n",
       " (0.016670875260906583, 'koi_teq'),\n",
       " (0.01597062653853628, 'koi_time0bk_err1'),\n",
       " (0.015017945547076871, 'koi_period_err2'),\n",
       " (0.014423267117533821, 'koi_insol_err1'),\n",
       " (0.012215815451049229, 'koi_time0bk'),\n",
       " (0.01206843184360718, 'koi_depth_err2'),\n",
       " (0.011571663704052102, 'koi_depth_err1'),\n",
       " (0.010590845092066545, 'koi_insol'),\n",
       " (0.010205170793211765, 'koi_period_err1'),\n",
       " (0.010175595555422098, 'koi_impact_err2'),\n",
       " (0.010137029160652098, 'ra'),\n",
       " (0.00992879020553486, 'koi_impact_err1'),\n",
       " (0.009015043699669455, 'koi_kepmag'),\n",
       " (0.008925817329468106, 'dec'),\n",
       " (0.008763671296870962, 'koi_slogg_err2'),\n",
       " (0.008614193610891406, 'koi_insol_err2'),\n",
       " (0.008247234811801637, 'koi_srad_err1'),\n",
       " (0.007866356307074728, 'koi_steff'),\n",
       " (0.007754600528414589, 'koi_slogg'),\n",
       " (0.007713281909146975, 'koi_srad_err2'),\n",
       " (0.007577893618729342, 'koi_slogg_err1'),\n",
       " (0.007301154251210577, 'koi_srad'),\n",
       " (0.00301193530287203, 'koi_tce_plnt_num')]"
      ]
     },
     "execution_count": 12,
     "metadata": {},
     "output_type": "execute_result"
    }
   ],
   "source": [
    "sorted(zip(rf.feature_importances_, feature_names), reverse=True)"
   ]
  },
  {
   "cell_type": "code",
   "execution_count": 13,
   "id": "56276ecf",
   "metadata": {},
   "outputs": [
    {
     "data": {
      "image/png": "[encoded data removed]",
      "text/plain": [
       "<Figure size 432x288 with 1 Axes>"
      ]
     },
     "metadata": {
      "needs_background": "light"
     },
     "output_type": "display_data"
    }
   ],
   "source": [
    "features = feature_names\n",
    "importances = rf.feature_importances_\n",
    "indices = np.argsort(importances)\n",
    "\n",
    "plt.title('Feature Importances')\n",
    "plt.barh(range(len(indices)), importances[indices], color='b', align='center')\n",
    "plt.yticks(range(len(indices)), [features[i] for i in indices])\n",
    "plt.xlabel('Relative Importance')\n",
    "plt.show()"
   ]
  },
  {
   "cell_type": "code",
   "execution_count": 14,
   "id": "2cc64eb5",
   "metadata": {},
   "outputs": [],
   "source": [
    "from sklearn.feature_selection import RFE"
   ]
  },
  {
   "cell_type": "code",
   "execution_count": 26,
   "id": "2dbef6f1",
   "metadata": {},
   "outputs": [],
   "source": [
    "# Init the transformer\n",
    "rfe = RFE(estimator=RandomForestClassifier(), n_features_to_select=30)\n",
    "\n",
    "# Fit to the training data\n",
    "_ = rfe.fit(X_train_minmax, y_train)"
   ]
  },
  {
   "cell_type": "code",
   "execution_count": 27,
   "id": "26744e11",
   "metadata": {},
   "outputs": [
    {
     "data": {
      "text/plain": [
       "0.8928754484879549"
      ]
     },
     "execution_count": 27,
     "metadata": {},
     "output_type": "execute_result"
    }
   ],
   "source": [
    "forest = RandomForestClassifier()\n",
    "_ = forest.fit(rfe.transform(X_train_minmax), y_train)\n",
    "forest.score(rfe.transform(X_test_minmax), y_test)"
   ]
  },
  {
   "cell_type": "markdown",
   "id": "104767d1",
   "metadata": {},
   "source": [
    "### Hyperparameter tuning"
   ]
  },
  {
   "cell_type": "code",
   "execution_count": 15,
   "id": "51cb20a9",
   "metadata": {},
   "outputs": [],
   "source": [
    "# gridsearchcv\n",
    "from sklearn.model_selection import GridSearchCV\n",
    "param_grid = {'n_estimators': [250,300,350],\n",
    "              'max_depth': [125,150,175]}\n",
    "grid = GridSearchCV(rf, param_grid, verbose=3)"
   ]
  },
  {
   "cell_type": "code",
   "execution_count": 16,
   "id": "807c87ce",
   "metadata": {},
   "outputs": [
    {
     "name": "stdout",
     "output_type": "stream",
     "text": [
      "Fitting 5 folds for each of 9 candidates, totalling 45 fits\n",
      "[CV 1/5] END ...max_depth=125, n_estimators=250;, score=0.887 total time=   4.6s\n",
      "[CV 2/5] END ...max_depth=125, n_estimators=250;, score=0.898 total time=   4.5s\n",
      "[CV 3/5] END ...max_depth=125, n_estimators=250;, score=0.879 total time=   5.2s\n",
      "[CV 4/5] END ...max_depth=125, n_estimators=250;, score=0.890 total time=   4.7s\n",
      "[CV 5/5] END ...max_depth=125, n_estimators=250;, score=0.886 total time=   4.4s\n",
      "[CV 1/5] END ...max_depth=125, n_estimators=300;, score=0.888 total time=   5.4s\n",
      "[CV 2/5] END ...max_depth=125, n_estimators=300;, score=0.899 total time=   5.5s\n",
      "[CV 3/5] END ...max_depth=125, n_estimators=300;, score=0.875 total time=   5.4s\n",
      "[CV 4/5] END ...max_depth=125, n_estimators=300;, score=0.885 total time=   5.8s\n",
      "[CV 5/5] END ...max_depth=125, n_estimators=300;, score=0.883 total time=   5.5s\n",
      "[CV 1/5] END ...max_depth=125, n_estimators=350;, score=0.891 total time=   6.4s\n",
      "[CV 2/5] END ...max_depth=125, n_estimators=350;, score=0.893 total time=   6.4s\n",
      "[CV 3/5] END ...max_depth=125, n_estimators=350;, score=0.879 total time=   6.5s\n",
      "[CV 4/5] END ...max_depth=125, n_estimators=350;, score=0.886 total time=   6.7s\n",
      "[CV 5/5] END ...max_depth=125, n_estimators=350;, score=0.885 total time=   6.5s\n",
      "[CV 1/5] END ...max_depth=150, n_estimators=250;, score=0.890 total time=   4.5s\n",
      "[CV 2/5] END ...max_depth=150, n_estimators=250;, score=0.899 total time=   4.6s\n",
      "[CV 3/5] END ...max_depth=150, n_estimators=250;, score=0.879 total time=   4.4s\n",
      "[CV 4/5] END ...max_depth=150, n_estimators=250;, score=0.891 total time=   4.8s\n",
      "[CV 5/5] END ...max_depth=150, n_estimators=250;, score=0.885 total time=   5.5s\n",
      "[CV 1/5] END ...max_depth=150, n_estimators=300;, score=0.892 total time=   5.8s\n",
      "[CV 2/5] END ...max_depth=150, n_estimators=300;, score=0.899 total time=   5.6s\n",
      "[CV 3/5] END ...max_depth=150, n_estimators=300;, score=0.879 total time=   6.0s\n",
      "[CV 4/5] END ...max_depth=150, n_estimators=300;, score=0.890 total time=   5.5s\n",
      "[CV 5/5] END ...max_depth=150, n_estimators=300;, score=0.885 total time=   5.5s\n",
      "[CV 1/5] END ...max_depth=150, n_estimators=350;, score=0.891 total time=   6.8s\n",
      "[CV 2/5] END ...max_depth=150, n_estimators=350;, score=0.898 total time=   6.5s\n",
      "[CV 3/5] END ...max_depth=150, n_estimators=350;, score=0.874 total time=   7.0s\n",
      "[CV 4/5] END ...max_depth=150, n_estimators=350;, score=0.885 total time=   6.2s\n",
      "[CV 5/5] END ...max_depth=150, n_estimators=350;, score=0.881 total time=   7.1s\n",
      "[CV 1/5] END ...max_depth=175, n_estimators=250;, score=0.889 total time=   4.6s\n",
      "[CV 2/5] END ...max_depth=175, n_estimators=250;, score=0.897 total time=   4.6s\n",
      "[CV 3/5] END ...max_depth=175, n_estimators=250;, score=0.874 total time=   4.7s\n",
      "[CV 4/5] END ...max_depth=175, n_estimators=250;, score=0.890 total time=   4.9s\n",
      "[CV 5/5] END ...max_depth=175, n_estimators=250;, score=0.885 total time=   4.6s\n",
      "[CV 1/5] END ...max_depth=175, n_estimators=300;, score=0.888 total time=   5.6s\n",
      "[CV 2/5] END ...max_depth=175, n_estimators=300;, score=0.895 total time=   5.8s\n",
      "[CV 3/5] END ...max_depth=175, n_estimators=300;, score=0.879 total time=   5.4s\n",
      "[CV 4/5] END ...max_depth=175, n_estimators=300;, score=0.891 total time=   5.6s\n",
      "[CV 5/5] END ...max_depth=175, n_estimators=300;, score=0.887 total time=   5.5s\n",
      "[CV 1/5] END ...max_depth=175, n_estimators=350;, score=0.887 total time=   6.6s\n",
      "[CV 2/5] END ...max_depth=175, n_estimators=350;, score=0.898 total time=   6.5s\n",
      "[CV 3/5] END ...max_depth=175, n_estimators=350;, score=0.882 total time=   6.5s\n",
      "[CV 4/5] END ...max_depth=175, n_estimators=350;, score=0.891 total time=   7.2s\n",
      "[CV 5/5] END ...max_depth=175, n_estimators=350;, score=0.885 total time=   7.2s\n"
     ]
    },
    {
     "data": {
      "text/plain": [
       "GridSearchCV(estimator=RandomForestClassifier(),\n",
       "             param_grid={'max_depth': [125, 150, 175],\n",
       "                         'n_estimators': [250, 300, 350]},\n",
       "             verbose=3)"
      ]
     },
     "execution_count": 16,
     "metadata": {},
     "output_type": "execute_result"
    }
   ],
   "source": [
    "grid.fit(X_train_minmax, y_train)"
   ]
  },
  {
   "cell_type": "code",
   "execution_count": 17,
   "id": "d3575ce3",
   "metadata": {},
   "outputs": [
    {
     "name": "stdout",
     "output_type": "stream",
     "text": [
      "{'max_depth': 150, 'n_estimators': 300}\n",
      "0.8890954476778559\n"
     ]
    }
   ],
   "source": [
    "# print best params and score\n",
    "print(grid.best_params_)\n",
    "print(grid.best_score_)"
   ]
  },
  {
   "cell_type": "code",
   "execution_count": 18,
   "id": "e8b76f89",
   "metadata": {},
   "outputs": [
    {
     "data": {
      "text/plain": [
       "1.0"
      ]
     },
     "execution_count": 18,
     "metadata": {},
     "output_type": "execute_result"
    }
   ],
   "source": [
    "# print training score\n",
    "grid.score(X_train_minmax, y_train)"
   ]
  },
  {
   "cell_type": "code",
   "execution_count": 19,
   "id": "cd6f3d9c",
   "metadata": {},
   "outputs": [
    {
     "data": {
      "text/plain": [
       "0.8974884674525884"
      ]
     },
     "execution_count": 19,
     "metadata": {},
     "output_type": "execute_result"
    }
   ],
   "source": [
    "# print testing score\n",
    "grid.score(X_test_minmax,y_test)"
   ]
  },
  {
   "cell_type": "code",
   "execution_count": 20,
   "id": "db4861ff",
   "metadata": {},
   "outputs": [
    {
     "name": "stdout",
     "output_type": "stream",
     "text": [
      "['CONFIRMED' 'CONFIRMED' 'FALSE POSITIVE' ... 'FALSE POSITIVE' 'CANDIDATE'\n",
      " 'FALSE POSITIVE']\n"
     ]
    }
   ],
   "source": [
    "# make predictions\n",
    "predictions = grid.predict(X_test_minmax)\n",
    "print(predictions)"
   ]
  },
  {
   "cell_type": "code",
   "execution_count": 21,
   "id": "faca3e6f",
   "metadata": {},
   "outputs": [
    {
     "name": "stdout",
     "output_type": "stream",
     "text": [
      "                precision    recall  f1-score   support\n",
      "\n",
      "     CANDIDATE       0.83      0.73      0.78       446\n",
      "     CONFIRMED       0.81      0.86      0.84       572\n",
      "FALSE POSITIVE       0.98      1.00      0.99       933\n",
      "\n",
      "      accuracy                           0.90      1951\n",
      "     macro avg       0.87      0.86      0.87      1951\n",
      "  weighted avg       0.90      0.90      0.90      1951\n",
      "\n"
     ]
    }
   ],
   "source": [
    "# print classification\n",
    "from sklearn.metrics import classification_report\n",
    "print(classification_report(y_test,predictions))"
   ]
  },
  {
   "cell_type": "code",
   "execution_count": null,
   "id": "a2758bb3",
   "metadata": {},
   "outputs": [],
   "source": [
    "# save the model\n",
    "import joblib\n",
    "filename = 'rf.sav'\n",
    "joblib.dump(rf, filename)"
   ]
  },
  {
   "cell_type": "code",
   "execution_count": null,
   "id": "5029ef38",
   "metadata": {},
   "outputs": [],
   "source": []
  }
 ],
 "metadata": {
  "kernelspec": {
   "display_name": "Python 3",
   "language": "python",
   "name": "python3"
  },
  "language_info": {
   "codemirror_mode": {
    "name": "ipython",
    "version": 3
   },
   "file_extension": ".py",
   "mimetype": "text/x-python",
   "name": "python",
   "nbconvert_exporter": "python",
   "pygments_lexer": "ipython3",
   "version": "3.8.10"
  }
 },
 "nbformat": 4,
 "nbformat_minor": 5
}
